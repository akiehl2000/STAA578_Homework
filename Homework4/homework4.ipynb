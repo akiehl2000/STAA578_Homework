{
 "cells": [
  {
   "attachments": {},
   "cell_type": "markdown",
   "metadata": {},
   "source": [
    "# Homework 4 (Ibotta Products)"
   ]
  },
  {
   "cell_type": "code",
   "execution_count": 1,
   "metadata": {},
   "outputs": [],
   "source": [
    "# import analysis packages\n",
    "import keras\n",
    "import matplotlib.pyplot as plt\n",
    "import numpy as np\n",
    "import pandas as pd\n",
    "import tensorflow as tf"
   ]
  },
  {
   "cell_type": "code",
   "execution_count": 49,
   "metadata": {},
   "outputs": [
    {
     "data": {
      "text/plain": [
       "(8000, 5)"
      ]
     },
     "metadata": {},
     "output_type": "display_data"
    },
    {
     "data": {
      "text/plain": [
       "(1999, 4)"
      ]
     },
     "metadata": {},
     "output_type": "display_data"
    },
    {
     "data": {
      "text/plain": [
       "(9999, 6)"
      ]
     },
     "metadata": {},
     "output_type": "display_data"
    },
    {
     "name": "stdout",
     "output_type": "stream",
     "text": [
      "<class 'pandas.core.frame.DataFrame'>\n",
      "Int64Index: 9999 entries, 0 to 1998\n",
      "Data columns (total 6 columns):\n",
      " #   Column      Non-Null Count  Dtype \n",
      "---  ------      --------------  ----- \n",
      " 0   Id          9999 non-null   int64 \n",
      " 1   Name        9999 non-null   object\n",
      " 2   Brand_name  9999 non-null   object\n",
      " 3   Category    8000 non-null   object\n",
      " 4   origin      9999 non-null   object\n",
      " 5   full_text   9999 non-null   object\n",
      "dtypes: int64(1), object(5)\n",
      "memory usage: 546.8+ KB\n"
     ]
    },
    {
     "data": {
      "text/plain": [
       "None"
      ]
     },
     "metadata": {},
     "output_type": "display_data"
    },
    {
     "data": {
      "text/html": [
       "<div>\n",
       "<style scoped>\n",
       "    .dataframe tbody tr th:only-of-type {\n",
       "        vertical-align: middle;\n",
       "    }\n",
       "\n",
       "    .dataframe tbody tr th {\n",
       "        vertical-align: top;\n",
       "    }\n",
       "\n",
       "    .dataframe thead th {\n",
       "        text-align: right;\n",
       "    }\n",
       "</style>\n",
       "<table border=\"1\" class=\"dataframe\">\n",
       "  <thead>\n",
       "    <tr style=\"text-align: right;\">\n",
       "      <th></th>\n",
       "      <th>Id</th>\n",
       "      <th>Name</th>\n",
       "      <th>Brand_name</th>\n",
       "      <th>Category</th>\n",
       "      <th>origin</th>\n",
       "      <th>full_text</th>\n",
       "    </tr>\n",
       "  </thead>\n",
       "  <tbody>\n",
       "    <tr>\n",
       "      <th>0</th>\n",
       "      <td>1</td>\n",
       "      <td>4C HomeStyle Parmesan Grated Cheese, 6 oz</td>\n",
       "      <td>4C</td>\n",
       "      <td>Dairy</td>\n",
       "      <td>train</td>\n",
       "      <td>4C 4C HomeStyle Parmesan Grated Cheese, 6 oz</td>\n",
       "    </tr>\n",
       "    <tr>\n",
       "      <th>1</th>\n",
       "      <td>2</td>\n",
       "      <td>4C 100% Natural Parmesan Cheese, 6 oz</td>\n",
       "      <td></td>\n",
       "      <td>Dairy</td>\n",
       "      <td>train</td>\n",
       "      <td>4C 100% Natural Parmesan Cheese, 6 oz</td>\n",
       "    </tr>\n",
       "    <tr>\n",
       "      <th>2</th>\n",
       "      <td>3</td>\n",
       "      <td>4C Parmesan &amp; Romano Cheese, Grated</td>\n",
       "      <td>4C</td>\n",
       "      <td>Dairy</td>\n",
       "      <td>train</td>\n",
       "      <td>4C 4C Parmesan &amp; Romano Cheese, Grated</td>\n",
       "    </tr>\n",
       "    <tr>\n",
       "      <th>3</th>\n",
       "      <td>4</td>\n",
       "      <td>Advance Fast Fixin' Country Fried Steaks with ...</td>\n",
       "      <td>Fast Fixin'</td>\n",
       "      <td>Frozen Foods</td>\n",
       "      <td>train</td>\n",
       "      <td>Fast Fixin' Advance Fast Fixin' Country Fried ...</td>\n",
       "    </tr>\n",
       "    <tr>\n",
       "      <th>4</th>\n",
       "      <td>5</td>\n",
       "      <td>Borden: Salted 4 Ct Butter</td>\n",
       "      <td>Borden Dairy Company</td>\n",
       "      <td>Dairy</td>\n",
       "      <td>train</td>\n",
       "      <td>Borden Dairy Company Borden: Salted 4 Ct Butter</td>\n",
       "    </tr>\n",
       "  </tbody>\n",
       "</table>\n",
       "</div>"
      ],
      "text/plain": [
       "   Id                                               Name  \\\n",
       "0   1          4C HomeStyle Parmesan Grated Cheese, 6 oz   \n",
       "1   2              4C 100% Natural Parmesan Cheese, 6 oz   \n",
       "2   3                4C Parmesan & Romano Cheese, Grated   \n",
       "3   4  Advance Fast Fixin' Country Fried Steaks with ...   \n",
       "4   5                         Borden: Salted 4 Ct Butter   \n",
       "\n",
       "             Brand_name      Category origin  \\\n",
       "0                    4C         Dairy  train   \n",
       "1                               Dairy  train   \n",
       "2                    4C         Dairy  train   \n",
       "3           Fast Fixin'  Frozen Foods  train   \n",
       "4  Borden Dairy Company         Dairy  train   \n",
       "\n",
       "                                           full_text  \n",
       "0       4C 4C HomeStyle Parmesan Grated Cheese, 6 oz  \n",
       "1              4C 100% Natural Parmesan Cheese, 6 oz  \n",
       "2             4C 4C Parmesan & Romano Cheese, Grated  \n",
       "3  Fast Fixin' Advance Fast Fixin' Country Fried ...  \n",
       "4    Borden Dairy Company Borden: Salted 4 Ct Butter  "
      ]
     },
     "metadata": {},
     "output_type": "display_data"
    }
   ],
   "source": [
    "# read data from .csv files\n",
    "trainDF = pd.read_csv('./ibotta_train.csv')\n",
    "testDF = pd.read_csv('./ibotta_test.csv')\n",
    "\n",
    "# drop category code field\n",
    "trainDF.drop('Cat_code', axis = 1, inplace = True)\n",
    "\n",
    "# combine data sets for preprocessing\n",
    "trainDF['origin'] = 'train'\n",
    "testDF['origin'] = 'test'\n",
    "fullDF = pd.concat([trainDF, testDF])\n",
    "\n",
    "# combine brand and name fields\n",
    "fullDF['Brand_name'].where(-fullDF['Brand_name'].isna(), '', inplace = True)\n",
    "fullDF['full_text'] = fullDF['Brand_name'] + ' ' + fullDF['Name']\n",
    "\n",
    "# check dimensions of data\n",
    "display(trainDF.shape)\n",
    "display(testDF.shape)\n",
    "display(fullDF.shape)\n",
    "\n",
    "# check data types\n",
    "display(fullDF.info())\n",
    "\n",
    "# peek at data\n",
    "display(fullDF.head())"
   ]
  },
  {
   "cell_type": "code",
   "execution_count": 57,
   "metadata": {},
   "outputs": [
    {
     "data": {
      "text/plain": [
       "0.5648956817079088"
      ]
     },
     "execution_count": 57,
     "metadata": {},
     "output_type": "execute_result"
    }
   ],
   "source": [
    "np.mean(fullDF.loc[fullDF['Brand_name'] != ''].apply(lambda x: x['Name'].find(x['Brand_name']), axis = 1) != -1)"
   ]
  }
 ],
 "metadata": {
  "kernelspec": {
   "display_name": "dsci",
   "language": "python",
   "name": "python3"
  },
  "language_info": {
   "codemirror_mode": {
    "name": "ipython",
    "version": 3
   },
   "file_extension": ".py",
   "mimetype": "text/x-python",
   "name": "python",
   "nbconvert_exporter": "python",
   "pygments_lexer": "ipython3",
   "version": "3.8.15"
  },
  "orig_nbformat": 4
 },
 "nbformat": 4,
 "nbformat_minor": 2
}
