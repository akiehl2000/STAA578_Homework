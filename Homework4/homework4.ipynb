{
 "cells": [
  {
   "attachments": {},
   "cell_type": "markdown",
   "metadata": {},
   "source": [
    "# Homework 4 (Ibotta Products)"
   ]
  },
  {
   "cell_type": "code",
   "execution_count": 67,
   "metadata": {},
   "outputs": [],
   "source": [
    "# import analysis packages\n",
    "import gensim\n",
    "from gensim.models.doc2vec import Doc2Vec, TaggedDocument\n",
    "import keras\n",
    "from keras.callbacks import EarlyStopping\n",
    "from keras.layers import Dense, Dropout, Embedding, SimpleRNN, TextVectorization\n",
    "from keras.models import Sequential\n",
    "from keras.regularizers import l2\n",
    "from keras.utils import to_categorical\n",
    "import matplotlib.pyplot as plt\n",
    "import numpy as np\n",
    "import pandas as pd\n",
    "import random\n",
    "import sklearn\n",
    "import tensorflow as tf"
   ]
  },
  {
   "attachments": {},
   "cell_type": "markdown",
   "metadata": {},
   "source": [
    "### Data Preprocessing"
   ]
  },
  {
   "cell_type": "code",
   "execution_count": 80,
   "metadata": {},
   "outputs": [],
   "source": [
    "# read data from .csv files\n",
    "trainDF = pd.read_csv('./ibotta_train.csv')\n",
    "testDF = pd.read_csv('./ibotta_test.csv')\n",
    "\n",
    "# combine data sets for preprocessing\n",
    "trainDF['origin'] = 'train'\n",
    "testDF['origin'] = 'test'\n",
    "fullDF = pd.concat([trainDF, testDF])"
   ]
  },
  {
   "cell_type": "code",
   "execution_count": 81,
   "metadata": {},
   "outputs": [],
   "source": [
    "# text cleaning\n",
    "fullDF['Brand_name'].where(-fullDF['Brand_name'].isna(), '', inplace = True)\n",
    "fullDF['Brand_name'] = fullDF['Brand_name'].apply(lambda x: x.lower().replace(\"'\", \"\").replace(\",\", \"\").replace(\":\", \"\").replace(\"-\", \"\").replace(\".\", \"\"))\n",
    "fullDF['Name'] = fullDF['Name'].apply(lambda x: x.lower().replace(\"'\", \"\").replace(\",\", \"\").replace(\":\", \"\").replace(\"-\", \"\").replace(\".\", \"\"))\n",
    "\n",
    "# combine brand and name fields\n",
    "fullDF['brandAlready'] = fullDF.apply(lambda x: x['Name'].find(x['Brand_name']), axis = 1)\n",
    "fullDF.loc[fullDF.brandAlready == -1, 'Name'] = fullDF.loc[fullDF.brandAlready == -1, 'Brand_name'] + \\\n",
    "    ' ' + fullDF.loc[fullDF.brandAlready == -1, 'Name']\n",
    "fullDF.drop('brandAlready', axis = 1, inplace = True)"
   ]
  },
  {
   "cell_type": "code",
   "execution_count": 85,
   "metadata": {},
   "outputs": [
    {
     "data": {
      "text/plain": [
       "(6002, 5)"
      ]
     },
     "metadata": {},
     "output_type": "display_data"
    },
    {
     "data": {
      "text/plain": [
       "(1999, 5)"
      ]
     },
     "metadata": {},
     "output_type": "display_data"
    },
    {
     "data": {
      "text/plain": [
       "(1999, 4)"
      ]
     },
     "metadata": {},
     "output_type": "display_data"
    },
    {
     "name": "stdout",
     "output_type": "stream",
     "text": [
      "<class 'pandas.core.frame.DataFrame'>\n",
      "Int64Index: 6002 entries, 0 to 7999\n",
      "Data columns (total 5 columns):\n",
      " #   Column      Non-Null Count  Dtype  \n",
      "---  ------      --------------  -----  \n",
      " 0   Id          6002 non-null   int64  \n",
      " 1   Name        6002 non-null   object \n",
      " 2   Brand_name  6002 non-null   object \n",
      " 3   Category    6002 non-null   object \n",
      " 4   Cat_code    6002 non-null   float64\n",
      "dtypes: float64(1), int64(1), object(3)\n",
      "memory usage: 281.3+ KB\n"
     ]
    },
    {
     "data": {
      "text/plain": [
       "None"
      ]
     },
     "metadata": {},
     "output_type": "display_data"
    },
    {
     "data": {
      "text/html": [
       "<div>\n",
       "<style scoped>\n",
       "    .dataframe tbody tr th:only-of-type {\n",
       "        vertical-align: middle;\n",
       "    }\n",
       "\n",
       "    .dataframe tbody tr th {\n",
       "        vertical-align: top;\n",
       "    }\n",
       "\n",
       "    .dataframe thead th {\n",
       "        text-align: right;\n",
       "    }\n",
       "</style>\n",
       "<table border=\"1\" class=\"dataframe\">\n",
       "  <thead>\n",
       "    <tr style=\"text-align: right;\">\n",
       "      <th></th>\n",
       "      <th>Id</th>\n",
       "      <th>Name</th>\n",
       "      <th>Brand_name</th>\n",
       "      <th>Category</th>\n",
       "      <th>Cat_code</th>\n",
       "    </tr>\n",
       "  </thead>\n",
       "  <tbody>\n",
       "    <tr>\n",
       "      <th>0</th>\n",
       "      <td>1</td>\n",
       "      <td>4c homestyle parmesan grated cheese 6 oz</td>\n",
       "      <td>4c</td>\n",
       "      <td>Dairy</td>\n",
       "      <td>2.0</td>\n",
       "    </tr>\n",
       "    <tr>\n",
       "      <th>1</th>\n",
       "      <td>2</td>\n",
       "      <td>4c 100% natural parmesan cheese 6 oz</td>\n",
       "      <td></td>\n",
       "      <td>Dairy</td>\n",
       "      <td>2.0</td>\n",
       "    </tr>\n",
       "    <tr>\n",
       "      <th>2</th>\n",
       "      <td>3</td>\n",
       "      <td>4c parmesan &amp; romano cheese grated</td>\n",
       "      <td>4c</td>\n",
       "      <td>Dairy</td>\n",
       "      <td>2.0</td>\n",
       "    </tr>\n",
       "    <tr>\n",
       "      <th>3</th>\n",
       "      <td>4</td>\n",
       "      <td>advance fast fixin country fried steaks with g...</td>\n",
       "      <td>fast fixin</td>\n",
       "      <td>Frozen Foods</td>\n",
       "      <td>3.0</td>\n",
       "    </tr>\n",
       "    <tr>\n",
       "      <th>5</th>\n",
       "      <td>6</td>\n",
       "      <td>borden dairy company borden natural medium che...</td>\n",
       "      <td>borden dairy company</td>\n",
       "      <td>Dairy</td>\n",
       "      <td>2.0</td>\n",
       "    </tr>\n",
       "  </tbody>\n",
       "</table>\n",
       "</div>"
      ],
      "text/plain": [
       "   Id                                               Name  \\\n",
       "0   1           4c homestyle parmesan grated cheese 6 oz   \n",
       "1   2               4c 100% natural parmesan cheese 6 oz   \n",
       "2   3                 4c parmesan & romano cheese grated   \n",
       "3   4  advance fast fixin country fried steaks with g...   \n",
       "5   6  borden dairy company borden natural medium che...   \n",
       "\n",
       "             Brand_name      Category  Cat_code  \n",
       "0                    4c         Dairy       2.0  \n",
       "1                               Dairy       2.0  \n",
       "2                    4c         Dairy       2.0  \n",
       "3            fast fixin  Frozen Foods       3.0  \n",
       "5  borden dairy company         Dairy       2.0  "
      ]
     },
     "metadata": {},
     "output_type": "display_data"
    }
   ],
   "source": [
    "# seed random seed\n",
    "random.seed(542023)\n",
    "\n",
    "# split data\n",
    "trainDF = pd.DataFrame(fullDF.loc[fullDF['origin'] == 'train'].drop('origin', axis = 1))\n",
    "validIdx = random.sample(list(trainDF['Id'] - 1), 1999)\n",
    "validDF = trainDF.loc[validIdx]\n",
    "trainDF = trainDF.loc[trainDF['Id'].apply(lambda x: x not in validIdx)]\n",
    "testDF = pd.DataFrame(fullDF.loc[fullDF['origin'] == 'test'].drop(['origin', 'Category'], axis = 1))\n",
    "\n",
    "# check dimensions of data\n",
    "display(trainDF.shape)\n",
    "display(validDF.shape)\n",
    "display(testDF.shape)\n",
    "\n",
    "# check data types\n",
    "display(trainDF.info())\n",
    "\n",
    "# peek at data\n",
    "display(trainDF.head())"
   ]
  },
  {
   "attachments": {},
   "cell_type": "markdown",
   "metadata": {},
   "source": [
    "### Text Vectorization"
   ]
  },
  {
   "cell_type": "code",
   "execution_count": 91,
   "metadata": {},
   "outputs": [
    {
     "data": {
      "text/html": [
       "<div>\n",
       "<style scoped>\n",
       "    .dataframe tbody tr th:only-of-type {\n",
       "        vertical-align: middle;\n",
       "    }\n",
       "\n",
       "    .dataframe tbody tr th {\n",
       "        vertical-align: top;\n",
       "    }\n",
       "\n",
       "    .dataframe thead th {\n",
       "        text-align: right;\n",
       "    }\n",
       "</style>\n",
       "<table border=\"1\" class=\"dataframe\">\n",
       "  <thead>\n",
       "    <tr style=\"text-align: right;\">\n",
       "      <th></th>\n",
       "      <th></th>\n",
       "      <th>%</th>\n",
       "      <th>&amp;</th>\n",
       "      <th>(101731)</th>\n",
       "      <th>(12</th>\n",
       "      <th>(175</th>\n",
       "      <th>(18</th>\n",
       "      <th>(187</th>\n",
       "      <th>(4</th>\n",
       "      <th>(4th</th>\n",
       "      <th>...</th>\n",
       "      <th>zings</th>\n",
       "      <th>zip</th>\n",
       "      <th>zippak¨∆</th>\n",
       "      <th>zipçƒîpak</th>\n",
       "      <th>ziti</th>\n",
       "      <th>zoi</th>\n",
       "      <th>zucchini</th>\n",
       "      <th>|</th>\n",
       "      <th>çƒî</th>\n",
       "      <th>çƒï</th>\n",
       "    </tr>\n",
       "  </thead>\n",
       "  <tbody>\n",
       "    <tr>\n",
       "      <th>0</th>\n",
       "      <td>0.0</td>\n",
       "      <td>0.0</td>\n",
       "      <td>0.0</td>\n",
       "      <td>0.0</td>\n",
       "      <td>0.0</td>\n",
       "      <td>0.0</td>\n",
       "      <td>0.0</td>\n",
       "      <td>0.0</td>\n",
       "      <td>0.0</td>\n",
       "      <td>0.0</td>\n",
       "      <td>...</td>\n",
       "      <td>0.0</td>\n",
       "      <td>0.0</td>\n",
       "      <td>0.0</td>\n",
       "      <td>0.0</td>\n",
       "      <td>0.0</td>\n",
       "      <td>0.0</td>\n",
       "      <td>0.0</td>\n",
       "      <td>0.0</td>\n",
       "      <td>0.0</td>\n",
       "      <td>0.0</td>\n",
       "    </tr>\n",
       "    <tr>\n",
       "      <th>1</th>\n",
       "      <td>0.0</td>\n",
       "      <td>0.0</td>\n",
       "      <td>0.0</td>\n",
       "      <td>0.0</td>\n",
       "      <td>0.0</td>\n",
       "      <td>0.0</td>\n",
       "      <td>0.0</td>\n",
       "      <td>0.0</td>\n",
       "      <td>0.0</td>\n",
       "      <td>0.0</td>\n",
       "      <td>...</td>\n",
       "      <td>0.0</td>\n",
       "      <td>0.0</td>\n",
       "      <td>0.0</td>\n",
       "      <td>0.0</td>\n",
       "      <td>0.0</td>\n",
       "      <td>0.0</td>\n",
       "      <td>0.0</td>\n",
       "      <td>0.0</td>\n",
       "      <td>0.0</td>\n",
       "      <td>0.0</td>\n",
       "    </tr>\n",
       "    <tr>\n",
       "      <th>2</th>\n",
       "      <td>0.0</td>\n",
       "      <td>0.0</td>\n",
       "      <td>1.0</td>\n",
       "      <td>0.0</td>\n",
       "      <td>0.0</td>\n",
       "      <td>0.0</td>\n",
       "      <td>0.0</td>\n",
       "      <td>0.0</td>\n",
       "      <td>0.0</td>\n",
       "      <td>0.0</td>\n",
       "      <td>...</td>\n",
       "      <td>0.0</td>\n",
       "      <td>0.0</td>\n",
       "      <td>0.0</td>\n",
       "      <td>0.0</td>\n",
       "      <td>0.0</td>\n",
       "      <td>0.0</td>\n",
       "      <td>0.0</td>\n",
       "      <td>0.0</td>\n",
       "      <td>0.0</td>\n",
       "      <td>0.0</td>\n",
       "    </tr>\n",
       "    <tr>\n",
       "      <th>3</th>\n",
       "      <td>0.0</td>\n",
       "      <td>0.0</td>\n",
       "      <td>0.0</td>\n",
       "      <td>0.0</td>\n",
       "      <td>0.0</td>\n",
       "      <td>0.0</td>\n",
       "      <td>0.0</td>\n",
       "      <td>0.0</td>\n",
       "      <td>0.0</td>\n",
       "      <td>0.0</td>\n",
       "      <td>...</td>\n",
       "      <td>0.0</td>\n",
       "      <td>0.0</td>\n",
       "      <td>0.0</td>\n",
       "      <td>0.0</td>\n",
       "      <td>0.0</td>\n",
       "      <td>0.0</td>\n",
       "      <td>0.0</td>\n",
       "      <td>0.0</td>\n",
       "      <td>0.0</td>\n",
       "      <td>0.0</td>\n",
       "    </tr>\n",
       "    <tr>\n",
       "      <th>4</th>\n",
       "      <td>0.0</td>\n",
       "      <td>0.0</td>\n",
       "      <td>0.0</td>\n",
       "      <td>0.0</td>\n",
       "      <td>0.0</td>\n",
       "      <td>0.0</td>\n",
       "      <td>0.0</td>\n",
       "      <td>0.0</td>\n",
       "      <td>0.0</td>\n",
       "      <td>0.0</td>\n",
       "      <td>...</td>\n",
       "      <td>0.0</td>\n",
       "      <td>0.0</td>\n",
       "      <td>0.0</td>\n",
       "      <td>0.0</td>\n",
       "      <td>0.0</td>\n",
       "      <td>0.0</td>\n",
       "      <td>0.0</td>\n",
       "      <td>0.0</td>\n",
       "      <td>0.0</td>\n",
       "      <td>0.0</td>\n",
       "    </tr>\n",
       "  </tbody>\n",
       "</table>\n",
       "<p>5 rows × 4977 columns</p>\n",
       "</div>"
      ],
      "text/plain": [
       "          %    &  (101731)  (12  (175  (18  (187   (4  (4th  ...  zings  zip  \\\n",
       "0  0.0  0.0  0.0       0.0  0.0   0.0  0.0   0.0  0.0   0.0  ...    0.0  0.0   \n",
       "1  0.0  0.0  0.0       0.0  0.0   0.0  0.0   0.0  0.0   0.0  ...    0.0  0.0   \n",
       "2  0.0  0.0  1.0       0.0  0.0   0.0  0.0   0.0  0.0   0.0  ...    0.0  0.0   \n",
       "3  0.0  0.0  0.0       0.0  0.0   0.0  0.0   0.0  0.0   0.0  ...    0.0  0.0   \n",
       "4  0.0  0.0  0.0       0.0  0.0   0.0  0.0   0.0  0.0   0.0  ...    0.0  0.0   \n",
       "\n",
       "   zippak¨∆  zipçƒîpak  ziti  zoi  zucchini    |  çƒî  çƒï  \n",
       "0       0.0        0.0   0.0  0.0       0.0  0.0  0.0  0.0  \n",
       "1       0.0        0.0   0.0  0.0       0.0  0.0  0.0  0.0  \n",
       "2       0.0        0.0   0.0  0.0       0.0  0.0  0.0  0.0  \n",
       "3       0.0        0.0   0.0  0.0       0.0  0.0  0.0  0.0  \n",
       "4       0.0        0.0   0.0  0.0       0.0  0.0  0.0  0.0  \n",
       "\n",
       "[5 rows x 4977 columns]"
      ]
     },
     "metadata": {},
     "output_type": "display_data"
    },
    {
     "data": {
      "text/plain": [
       "(6001, 4977)"
      ]
     },
     "metadata": {},
     "output_type": "display_data"
    },
    {
     "data": {
      "text/plain": [
       "(1999, 4977)"
      ]
     },
     "metadata": {},
     "output_type": "display_data"
    },
    {
     "data": {
      "text/plain": [
       "(1999, 4977)"
      ]
     },
     "metadata": {},
     "output_type": "display_data"
    }
   ],
   "source": [
    "# find total number of unique words\n",
    "unique_words = np.unique(np.array(' '.join(np.array(fullDF['Name'])).split(' ')))\n",
    "max_length = len(unique_words)\n",
    "\n",
    "# initialize empty dataframe\n",
    "wordBag = pd.DataFrame(np.zeros((len(fullDF), max_length)), \n",
    "                       columns = unique_words)\n",
    "\n",
    "# loop through product names\n",
    "for i, productName in enumerate(fullDF['Name'].apply(lambda x: x.split(' '))):\n",
    "    # loop through words in name\n",
    "    for word in productName:\n",
    "        # identify word presence\n",
    "        wordBag.loc[i, word] = 1\n",
    "\n",
    "# peek at bag of words\n",
    "display(wordBag.head())\n",
    "\n",
    "# split word bag\n",
    "trainDFwordBag = wordBag.loc[0:7999]\n",
    "validDFwordBag = trainDFwordBag.loc[validIdx]\n",
    "trainDFwordBag = trainDFwordBag.loc[pd.Series(trainDFwordBag.index).apply(lambda x: x not in validIdx)]\n",
    "testDFwordBag = wordBag.loc[8000:9999]\n",
    "\n",
    "# check dimensions of data\n",
    "display(trainDFwordBag.shape)\n",
    "display(validDFwordBag.shape)\n",
    "display(testDFwordBag.shape)"
   ]
  },
  {
   "cell_type": "code",
   "execution_count": 92,
   "metadata": {},
   "outputs": [],
   "source": [
    "# tag data with iterable object\n",
    "tagged_data = [TaggedDocument(d, [i]) for i, d in enumerate(fullDF['Name'].apply(lambda x: x.split(' ')))]\n",
    "\n",
    "# doc2vec vectorization function\n",
    "def doc2vecGen(size):\n",
    "    # train doc2vec tokenizer\n",
    "    tokenizer = Doc2Vec(tagged_data, vector_size = size, min_count = 1, epochs = 100)\n",
    "    tokenizer.build_vocab(list(tagged_data))\n",
    "    tokenizer.train(list(tagged_data), \n",
    "                    total_examples = tokenizer.corpus_count, \n",
    "                    epochs = tokenizer.epochs)\n",
    "    \n",
    "    # vectorize text data\n",
    "    doc2vecDF = fullDF['Name'].apply(lambda x: tokenizer.infer_vector(x.split(' ')))\n",
    "    doc2vecDF = pd.DataFrame(np.array(doc2vecDF))[0].apply(pd.Series)\n",
    "\n",
    "    # split vectorized data\n",
    "    trainDFdoc2vec = doc2vecDF.loc[0:7999]\n",
    "    validDFdoc2vec = doc2vecDF.loc[validIdx]\n",
    "    trainDFdoc2vec = trainDFdoc2vec.loc[pd.Series(trainDFdoc2vec.index).apply(lambda x: x not in validIdx)]\n",
    "    testDFdoc2vec = doc2vecDF.loc[8000:9999]\n",
    "\n",
    "    return(trainDFdoc2vec, validDFdoc2vec, testDFdoc2vec)\n",
    "\n",
    "# generate vectorized data\n",
    "trainDFdoc2vecMAX, validDFdoc2vecMAX, testDFdoc2vecMAX = doc2vecGen(max_length)\n",
    "trainDFdoc2vec1000, validDFdoc2vec1000, testDFdoc2vec1000 = doc2vecGen(1000)\n",
    "trainDFdoc2vec500, validDFdoc2vec500, testDFdoc2vec500 = doc2vecGen(500)\n",
    "trainDFdoc2vec100, validDFdoc2vec100, testDFdoc2vec100 = doc2vecGen(100)"
   ]
  },
  {
   "cell_type": "code",
   "execution_count": 98,
   "metadata": {},
   "outputs": [],
   "source": [
    "# keras tokenizer function\n",
    "def textVecGen(size):\n",
    "    # train keras tokenizer\n",
    "    tokenizer = TextVectorization(output_sequence_length = size)\n",
    "    tokenizer.adapt(fullDF['Name'])\n",
    "\n",
    "    # vectorize data\n",
    "    textVecDF = pd.DataFrame(tokenizer(fullDF['Name']))\n",
    "    \n",
    "    # split vectorized data\n",
    "    trainDFtextVec = textVecDF.loc[0:7999]\n",
    "    validDFtextVec = trainDFtextVec.loc[validIdx]\n",
    "    trainDFtextVec = trainDFtextVec.loc[pd.Series(trainDFtextVec.index).apply(lambda x: x not in validIdx)]\n",
    "    testDFtextVec = textVecDF.loc[8000:9999]\n",
    "\n",
    "    return(trainDFtextVec, validDFtextVec, testDFtextVec)\n",
    "\n",
    "# generate vectorized data\n",
    "trainDFtextVecMAX, validDFtextVecMAX, testDFtextVecMAX = textVecGen(max_length)\n",
    "trainDFtextVec1000, validDFtextVec1000, testDFtextVec1000 = textVecGen(1000)\n",
    "trainDFtextVec500, validDFtextVec500, testDFtextVec500 = textVecGen(500)\n",
    "trainDFtextVec100, validDFtextVec100, testDFtextVec100 = textVecGen(100)"
   ]
  },
  {
   "cell_type": "code",
   "execution_count": 94,
   "metadata": {},
   "outputs": [],
   "source": [
    "# model evaluation function\n",
    "def EvaluateModel(model, X_train):\n",
    "    # set random seeds\n",
    "    np.random.seed(542023)\n",
    "    tf.random.set_seed(542023)\n",
    "\n",
    "    # print model summary\n",
    "    try:\n",
    "        model.summary()\n",
    "    except:\n",
    "        pass\n",
    "\n",
    "    # compile model\n",
    "    model.compile(optimizer = 'rmsprop',\n",
    "                  loss = 'categorical_crossentropy',\n",
    "                  metrics = ['accuracy'])\n",
    "    \n",
    "    # define early stopping criterion\n",
    "    early = EarlyStopping(monitor = 'val_loss', mode = 'min', patience = 3)\n",
    "\n",
    "    # train deep learning model\n",
    "    trained = model.fit(X_train,\n",
    "                        to_categorical(trainDF['Cat_code']),\n",
    "                        epochs = 100,\n",
    "                        batch_size = 64,\n",
    "                        callbacks = early,\n",
    "                        validation_split = 0.2,\n",
    "                        verbose = 2)\n",
    "    \n",
    "    # prepare model evaluation\n",
    "    acc = trained.history['accuracy']\n",
    "    val_acc = trained.history['val_accuracy']\n",
    "    loss = trained.history['loss']\n",
    "    val_loss = trained.history['val_loss']\n",
    "    epochs = range(1, len(acc) + 1)\n",
    "\n",
    "    # final validation accuracy\n",
    "    display(f\"Internal validation accuracy: {round(val_acc[-1] * 100, 2)}%\")\n",
    "\n",
    "    # plot training accuracy\n",
    "    fig, (ax1, ax2) = plt.subplots(2, 1, figsize = (15, 5))\n",
    "    ax1.plot(epochs, acc, 'bo', label = 'Training acc')\n",
    "    ax1.plot(epochs, val_acc, 'b', label = 'Validation acc')\n",
    "    ax1.set(xlabel = 'Epochs', ylabel = 'Accuracy')\n",
    "    ax1.legend()\n",
    "    ax2.plot(epochs, loss, 'bo', label = 'Training loss')\n",
    "    ax2.plot(epochs, val_loss, 'b', label = 'Validation loss')\n",
    "    ax2.set(xlabel = 'Epochs', ylabel = 'Loss')\n",
    "    ax2.legend()\n",
    "    fig.suptitle('Evaluation Metrics')"
   ]
  },
  {
   "cell_type": "code",
   "execution_count": 95,
   "metadata": {},
   "outputs": [
    {
     "name": "stdout",
     "output_type": "stream",
     "text": [
      "Epoch 1/100\n",
      "75/75 - 4s - loss: 1.4331 - accuracy: 0.5198 - val_loss: 1.8348 - val_accuracy: 0.3672 - 4s/epoch - 52ms/step\n",
      "Epoch 2/100\n"
     ]
    },
    {
     "ename": "KeyboardInterrupt",
     "evalue": "",
     "output_type": "error",
     "traceback": [
      "\u001b[0;31m---------------------------------------------------------------------------\u001b[0m",
      "\u001b[0;31mKeyboardInterrupt\u001b[0m                         Traceback (most recent call last)",
      "Cell \u001b[0;32mIn[95], line 13\u001b[0m\n\u001b[1;32m      2\u001b[0m model \u001b[39m=\u001b[39m Sequential([\n\u001b[1;32m      3\u001b[0m     Dense(\u001b[39m2048\u001b[39m, activation \u001b[39m=\u001b[39m \u001b[39m'\u001b[39m\u001b[39mrelu\u001b[39m\u001b[39m'\u001b[39m),\n\u001b[1;32m      4\u001b[0m     Dense(\u001b[39m1024\u001b[39m, activation \u001b[39m=\u001b[39m \u001b[39m'\u001b[39m\u001b[39mrelu\u001b[39m\u001b[39m'\u001b[39m),\n\u001b[0;32m   (...)\u001b[0m\n\u001b[1;32m      9\u001b[0m     Dense(\u001b[39m7\u001b[39m, activation \u001b[39m=\u001b[39m \u001b[39m'\u001b[39m\u001b[39msoftmax\u001b[39m\u001b[39m'\u001b[39m)\n\u001b[1;32m     10\u001b[0m ])\n\u001b[1;32m     12\u001b[0m \u001b[39m# evaluate model\u001b[39;00m\n\u001b[0;32m---> 13\u001b[0m EvaluateModel(model, trainDFwordBag)\n",
      "Cell \u001b[0;32mIn[94], line 22\u001b[0m, in \u001b[0;36mEvaluateModel\u001b[0;34m(model, X_train)\u001b[0m\n\u001b[1;32m     19\u001b[0m early \u001b[39m=\u001b[39m EarlyStopping(monitor \u001b[39m=\u001b[39m \u001b[39m'\u001b[39m\u001b[39mval_loss\u001b[39m\u001b[39m'\u001b[39m, mode \u001b[39m=\u001b[39m \u001b[39m'\u001b[39m\u001b[39mmin\u001b[39m\u001b[39m'\u001b[39m, patience \u001b[39m=\u001b[39m \u001b[39m3\u001b[39m)\n\u001b[1;32m     21\u001b[0m \u001b[39m# train deep learning model\u001b[39;00m\n\u001b[0;32m---> 22\u001b[0m trained \u001b[39m=\u001b[39m model\u001b[39m.\u001b[39;49mfit(X_train,\n\u001b[1;32m     23\u001b[0m                     to_categorical(trainDF[\u001b[39m'\u001b[39;49m\u001b[39mCat_code\u001b[39;49m\u001b[39m'\u001b[39;49m]),\n\u001b[1;32m     24\u001b[0m                     epochs \u001b[39m=\u001b[39;49m \u001b[39m100\u001b[39;49m,\n\u001b[1;32m     25\u001b[0m                     batch_size \u001b[39m=\u001b[39;49m \u001b[39m64\u001b[39;49m,\n\u001b[1;32m     26\u001b[0m                     callbacks \u001b[39m=\u001b[39;49m early,\n\u001b[1;32m     27\u001b[0m                     validation_split \u001b[39m=\u001b[39;49m \u001b[39m0.2\u001b[39;49m,\n\u001b[1;32m     28\u001b[0m                     verbose \u001b[39m=\u001b[39;49m \u001b[39m2\u001b[39;49m)\n\u001b[1;32m     30\u001b[0m \u001b[39m# prepare model evaluation\u001b[39;00m\n\u001b[1;32m     31\u001b[0m acc \u001b[39m=\u001b[39m trained\u001b[39m.\u001b[39mhistory[\u001b[39m'\u001b[39m\u001b[39maccuracy\u001b[39m\u001b[39m'\u001b[39m]\n",
      "File \u001b[0;32m~/miniconda3/envs/dsci/lib/python3.8/site-packages/keras/utils/traceback_utils.py:64\u001b[0m, in \u001b[0;36mfilter_traceback.<locals>.error_handler\u001b[0;34m(*args, **kwargs)\u001b[0m\n\u001b[1;32m     62\u001b[0m filtered_tb \u001b[39m=\u001b[39m \u001b[39mNone\u001b[39;00m\n\u001b[1;32m     63\u001b[0m \u001b[39mtry\u001b[39;00m:\n\u001b[0;32m---> 64\u001b[0m   \u001b[39mreturn\u001b[39;00m fn(\u001b[39m*\u001b[39;49margs, \u001b[39m*\u001b[39;49m\u001b[39m*\u001b[39;49mkwargs)\n\u001b[1;32m     65\u001b[0m \u001b[39mexcept\u001b[39;00m \u001b[39mException\u001b[39;00m \u001b[39mas\u001b[39;00m e:  \u001b[39m# pylint: disable=broad-except\u001b[39;00m\n\u001b[1;32m     66\u001b[0m   filtered_tb \u001b[39m=\u001b[39m _process_traceback_frames(e\u001b[39m.\u001b[39m__traceback__)\n",
      "File \u001b[0;32m~/miniconda3/envs/dsci/lib/python3.8/site-packages/keras/engine/training.py:1401\u001b[0m, in \u001b[0;36mModel.fit\u001b[0;34m(self, x, y, batch_size, epochs, verbose, callbacks, validation_split, validation_data, shuffle, class_weight, sample_weight, initial_epoch, steps_per_epoch, validation_steps, validation_batch_size, validation_freq, max_queue_size, workers, use_multiprocessing)\u001b[0m\n\u001b[1;32m   1399\u001b[0m \u001b[39mwith\u001b[39;00m data_handler\u001b[39m.\u001b[39mcatch_stop_iteration():\n\u001b[1;32m   1400\u001b[0m   data_handler\u001b[39m.\u001b[39m_initial_step \u001b[39m=\u001b[39m \u001b[39mself\u001b[39m\u001b[39m.\u001b[39m_maybe_load_initial_step_from_ckpt()  \u001b[39m# pylint: disable=protected-access\u001b[39;00m\n\u001b[0;32m-> 1401\u001b[0m   \u001b[39mfor\u001b[39;00m step \u001b[39min\u001b[39;00m data_handler\u001b[39m.\u001b[39msteps():\n\u001b[1;32m   1402\u001b[0m     \u001b[39mwith\u001b[39;00m tf\u001b[39m.\u001b[39mprofiler\u001b[39m.\u001b[39mexperimental\u001b[39m.\u001b[39mTrace(\n\u001b[1;32m   1403\u001b[0m         \u001b[39m'\u001b[39m\u001b[39mtrain\u001b[39m\u001b[39m'\u001b[39m,\n\u001b[1;32m   1404\u001b[0m         epoch_num\u001b[39m=\u001b[39mepoch,\n\u001b[1;32m   1405\u001b[0m         step_num\u001b[39m=\u001b[39mstep,\n\u001b[1;32m   1406\u001b[0m         batch_size\u001b[39m=\u001b[39mbatch_size,\n\u001b[1;32m   1407\u001b[0m         _r\u001b[39m=\u001b[39m\u001b[39m1\u001b[39m):\n\u001b[1;32m   1408\u001b[0m       callbacks\u001b[39m.\u001b[39mon_train_batch_begin(step)\n",
      "File \u001b[0;32m~/miniconda3/envs/dsci/lib/python3.8/site-packages/keras/engine/data_adapter.py:1248\u001b[0m, in \u001b[0;36mDataHandler.steps\u001b[0;34m(self)\u001b[0m\n\u001b[1;32m   1246\u001b[0m \u001b[39mif\u001b[39;00m \u001b[39mself\u001b[39m\u001b[39m.\u001b[39m_insufficient_data:  \u001b[39m# Set by `catch_stop_iteration`.\u001b[39;00m\n\u001b[1;32m   1247\u001b[0m   \u001b[39mbreak\u001b[39;00m\n\u001b[0;32m-> 1248\u001b[0m original_spe \u001b[39m=\u001b[39m \u001b[39mself\u001b[39;49m\u001b[39m.\u001b[39;49m_steps_per_execution\u001b[39m.\u001b[39;49mnumpy()\u001b[39m.\u001b[39mitem()\n\u001b[1;32m   1249\u001b[0m can_run_full_execution \u001b[39m=\u001b[39m (\n\u001b[1;32m   1250\u001b[0m     original_spe \u001b[39m==\u001b[39m \u001b[39m1\u001b[39m \u001b[39mor\u001b[39;00m\n\u001b[1;32m   1251\u001b[0m     \u001b[39mself\u001b[39m\u001b[39m.\u001b[39m_inferred_steps \u001b[39mis\u001b[39;00m \u001b[39mNone\u001b[39;00m \u001b[39mor\u001b[39;00m\n\u001b[1;32m   1252\u001b[0m     \u001b[39mself\u001b[39m\u001b[39m.\u001b[39m_inferred_steps \u001b[39m-\u001b[39m \u001b[39mself\u001b[39m\u001b[39m.\u001b[39m_current_step \u001b[39m>\u001b[39m\u001b[39m=\u001b[39m\n\u001b[1;32m   1253\u001b[0m     original_spe)\n\u001b[1;32m   1255\u001b[0m \u001b[39mif\u001b[39;00m can_run_full_execution:\n",
      "File \u001b[0;32m~/miniconda3/envs/dsci/lib/python3.8/site-packages/tensorflow/python/ops/resource_variable_ops.py:637\u001b[0m, in \u001b[0;36mBaseResourceVariable.numpy\u001b[0;34m(self)\u001b[0m\n\u001b[1;32m    635\u001b[0m \u001b[39mdef\u001b[39;00m \u001b[39mnumpy\u001b[39m(\u001b[39mself\u001b[39m):\n\u001b[1;32m    636\u001b[0m   \u001b[39mif\u001b[39;00m context\u001b[39m.\u001b[39mexecuting_eagerly():\n\u001b[0;32m--> 637\u001b[0m     \u001b[39mreturn\u001b[39;00m \u001b[39mself\u001b[39;49m\u001b[39m.\u001b[39;49mread_value()\u001b[39m.\u001b[39;49mnumpy()\n\u001b[1;32m    638\u001b[0m   \u001b[39mraise\u001b[39;00m \u001b[39mNotImplementedError\u001b[39;00m(\n\u001b[1;32m    639\u001b[0m       \u001b[39m\"\u001b[39m\u001b[39mnumpy() is only available when eager execution is enabled.\u001b[39m\u001b[39m\"\u001b[39m)\n",
      "File \u001b[0;32m~/miniconda3/envs/dsci/lib/python3.8/site-packages/tensorflow/python/framework/ops.py:1159\u001b[0m, in \u001b[0;36m_EagerTensorBase.numpy\u001b[0;34m(self)\u001b[0m\n\u001b[1;32m   1136\u001b[0m \u001b[39m\"\"\"Copy of the contents of this Tensor into a NumPy array or scalar.\u001b[39;00m\n\u001b[1;32m   1137\u001b[0m \n\u001b[1;32m   1138\u001b[0m \u001b[39mUnlike NumPy arrays, Tensors are immutable, so this method has to copy\u001b[39;00m\n\u001b[0;32m   (...)\u001b[0m\n\u001b[1;32m   1156\u001b[0m \u001b[39m    NumPy dtype.\u001b[39;00m\n\u001b[1;32m   1157\u001b[0m \u001b[39m\"\"\"\u001b[39;00m\n\u001b[1;32m   1158\u001b[0m \u001b[39m# TODO(slebedev): Consider avoiding a copy for non-CPU or remote tensors.\u001b[39;00m\n\u001b[0;32m-> 1159\u001b[0m maybe_arr \u001b[39m=\u001b[39m \u001b[39mself\u001b[39;49m\u001b[39m.\u001b[39;49m_numpy()  \u001b[39m# pylint: disable=protected-access\u001b[39;00m\n\u001b[1;32m   1160\u001b[0m \u001b[39mreturn\u001b[39;00m maybe_arr\u001b[39m.\u001b[39mcopy() \u001b[39mif\u001b[39;00m \u001b[39misinstance\u001b[39m(maybe_arr, np\u001b[39m.\u001b[39mndarray) \u001b[39melse\u001b[39;00m maybe_arr\n",
      "File \u001b[0;32m~/miniconda3/envs/dsci/lib/python3.8/site-packages/tensorflow/python/framework/ops.py:1125\u001b[0m, in \u001b[0;36m_EagerTensorBase._numpy\u001b[0;34m(self)\u001b[0m\n\u001b[1;32m   1123\u001b[0m \u001b[39mdef\u001b[39;00m \u001b[39m_numpy\u001b[39m(\u001b[39mself\u001b[39m):\n\u001b[1;32m   1124\u001b[0m   \u001b[39mtry\u001b[39;00m:\n\u001b[0;32m-> 1125\u001b[0m     \u001b[39mreturn\u001b[39;00m \u001b[39mself\u001b[39;49m\u001b[39m.\u001b[39;49m_numpy_internal()\n\u001b[1;32m   1126\u001b[0m   \u001b[39mexcept\u001b[39;00m core\u001b[39m.\u001b[39m_NotOkStatusException \u001b[39mas\u001b[39;00m e:  \u001b[39m# pylint: disable=protected-access\u001b[39;00m\n\u001b[1;32m   1127\u001b[0m     \u001b[39mraise\u001b[39;00m core\u001b[39m.\u001b[39m_status_to_exception(e) \u001b[39mfrom\u001b[39;00m \u001b[39mNone\u001b[39m\n",
      "\u001b[0;31mKeyboardInterrupt\u001b[0m: "
     ]
    }
   ],
   "source": [
    "# define model architecture\n",
    "model = Sequential([\n",
    "    Dense(2048, activation = 'relu'),\n",
    "    Dense(1024, activation = 'relu'),\n",
    "    Dense(512, activation = 'relu'),\n",
    "    Dense(256, activation = 'relu'),\n",
    "    Dense(128, activation = 'relu'),\n",
    "    Dense(64, activation = 'relu'),\n",
    "    Dense(7, activation = 'softmax')\n",
    "])\n",
    "\n",
    "# evaluate model\n",
    "EvaluateModel(model, trainDFwordBag)"
   ]
  },
  {
   "cell_type": "code",
   "execution_count": null,
   "metadata": {},
   "outputs": [
    {
     "name": "stdout",
     "output_type": "stream",
     "text": [
      "Epoch 1/100\n",
      "100/100 - 5s - loss: 1.7487 - accuracy: 0.7258 - val_loss: 0.8879 - val_accuracy: 0.8494 - 5s/epoch - 53ms/step\n",
      "Epoch 2/100\n",
      "100/100 - 4s - loss: 0.6298 - accuracy: 0.9197 - val_loss: 0.6738 - val_accuracy: 0.8944 - 4s/epoch - 42ms/step\n",
      "Epoch 3/100\n",
      "100/100 - 4s - loss: 0.4802 - accuracy: 0.9352 - val_loss: 0.5520 - val_accuracy: 0.9000 - 4s/epoch - 42ms/step\n",
      "Epoch 4/100\n",
      "100/100 - 4s - loss: 0.4030 - accuracy: 0.9461 - val_loss: 0.6818 - val_accuracy: 0.8381 - 4s/epoch - 42ms/step\n",
      "Epoch 5/100\n",
      "100/100 - 4s - loss: 0.3630 - accuracy: 0.9478 - val_loss: 0.4954 - val_accuracy: 0.9019 - 4s/epoch - 42ms/step\n",
      "Epoch 6/100\n",
      "100/100 - 4s - loss: 0.3222 - accuracy: 0.9553 - val_loss: 0.5464 - val_accuracy: 0.8913 - 4s/epoch - 42ms/step\n",
      "Epoch 7/100\n",
      "100/100 - 4s - loss: 0.2948 - accuracy: 0.9605 - val_loss: 0.4508 - val_accuracy: 0.9056 - 4s/epoch - 42ms/step\n",
      "Epoch 8/100\n",
      "100/100 - 4s - loss: 0.2787 - accuracy: 0.9603 - val_loss: 0.4395 - val_accuracy: 0.9100 - 4s/epoch - 42ms/step\n",
      "Epoch 9/100\n",
      "100/100 - 4s - loss: 0.2567 - accuracy: 0.9634 - val_loss: 0.4386 - val_accuracy: 0.9062 - 4s/epoch - 42ms/step\n",
      "Epoch 10/100\n",
      "100/100 - 4s - loss: 0.2467 - accuracy: 0.9633 - val_loss: 0.4219 - val_accuracy: 0.9056 - 4s/epoch - 42ms/step\n",
      "Epoch 11/100\n",
      "100/100 - 4s - loss: 0.2365 - accuracy: 0.9672 - val_loss: 0.4211 - val_accuracy: 0.9069 - 4s/epoch - 42ms/step\n",
      "Epoch 12/100\n",
      "100/100 - 4s - loss: 0.2259 - accuracy: 0.9680 - val_loss: 0.4359 - val_accuracy: 0.8950 - 4s/epoch - 42ms/step\n",
      "Epoch 13/100\n",
      "100/100 - 4s - loss: 0.2176 - accuracy: 0.9694 - val_loss: 0.3813 - val_accuracy: 0.9181 - 4s/epoch - 42ms/step\n",
      "Epoch 14/100\n",
      "100/100 - 4s - loss: 0.2107 - accuracy: 0.9714 - val_loss: 0.3866 - val_accuracy: 0.9125 - 4s/epoch - 42ms/step\n",
      "Epoch 15/100\n",
      "100/100 - 4s - loss: 0.2052 - accuracy: 0.9731 - val_loss: 0.4154 - val_accuracy: 0.9100 - 4s/epoch - 42ms/step\n",
      "Epoch 16/100\n",
      "100/100 - 4s - loss: 0.1997 - accuracy: 0.9748 - val_loss: 0.3958 - val_accuracy: 0.9081 - 4s/epoch - 42ms/step\n"
     ]
    },
    {
     "data": {
      "text/plain": [
       "'Validation accuracy: 90.81%'"
      ]
     },
     "metadata": {},
     "output_type": "display_data"
    },
    {
     "data": {
      "image/png": "[encoded data removed]",
      "text/plain": [
       "<Figure size 1500x500 with 2 Axes>"
      ]
     },
     "metadata": {},
     "output_type": "display_data"
    }
   ],
   "source": [
    "# define model hyperparameters\n",
    "PENALTY = 0.001\n",
    "RATE = 0.2\n",
    "\n",
    "# define model architecture\n",
    "model = Sequential([\n",
    "    Dense(2048, kernel_regularizer = l2(PENALTY), activation = 'relu'),\n",
    "    Dense(1024, kernel_regularizer = l2(PENALTY), activation = 'relu'),\n",
    "    Dropout(RATE),\n",
    "    Dense(512, kernel_regularizer = l2(PENALTY), activation = 'relu'),\n",
    "    Dense(256, kernel_regularizer = l2(PENALTY), activation = 'relu'),\n",
    "    Dense(128, kernel_regularizer = l2(PENALTY), activation = 'relu'),\n",
    "    Dense(64, kernel_regularizer = l2(PENALTY), activation = 'relu'),\n",
    "    Dense(7, activation = 'softmax')\n",
    "])\n",
    "\n",
    "# evaluate model\n",
    "EvaluateModel(model, trainDFwordBag)"
   ]
  }
 ],
 "metadata": {
  "kernelspec": {
   "display_name": "dsci",
   "language": "python",
   "name": "python3"
  },
  "language_info": {
   "codemirror_mode": {
    "name": "ipython",
    "version": 3
   },
   "file_extension": ".py",
   "mimetype": "text/x-python",
   "name": "python",
   "nbconvert_exporter": "python",
   "pygments_lexer": "ipython3",
   "version": "3.8.15"
  },
  "orig_nbformat": 4
 },
 "nbformat": 4,
 "nbformat_minor": 2
}
