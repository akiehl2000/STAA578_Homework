{
 "cells": [
  {
   "attachments": {},
   "cell_type": "markdown",
   "metadata": {},
   "source": [
    "# Homework 2 (Loans)\n",
    "\n",
    "Description from Kaggle competation:  \n",
    "The goal is to decide whether or not to approve a loan to a new client based on the predictors that are provided. If you predict a 1, that means that you are predicting that the customer will pay back the laon. The data columns are described in the MetaData.csv file. The response for training is the MIS_Status column, where PIF = paid in full = a successful loan.\n",
    "\n",
    "You'll evaluate using the mean F1 score (see the Kaggle overview page for more information). Mean F1 scores closer to 1 are better scores. On the leaderboard I've included a benchmark which I created by randomly predicting 0 or 1 for the test data set (see random.guess on the leaderboard)."
   ]
  },
  {
   "cell_type": "code",
   "execution_count": 110,
   "metadata": {},
   "outputs": [],
   "source": [
    "# import analysis packages\n",
    "import keras\n",
    "from keras.callbacks import EarlyStopping\n",
    "from keras.layers import Dense, Dropout\n",
    "from keras import models\n",
    "from keras.regularizers import l2\n",
    "from keras.utils import to_categorical\n",
    "import keras.backend as back\n",
    "import matplotlib.pyplot as plt\n",
    "import numpy as np\n",
    "import pandas as pd\n",
    "import sklearn\n",
    "from sklearn.compose import make_column_selector\n",
    "from sklearn.compose import make_column_transformer\n",
    "from sklearn.ensemble import GradientBoostingClassifier\n",
    "from sklearn.ensemble import RandomForestClassifier\n",
    "from sklearn.model_selection import cross_val_score\n",
    "from sklearn.model_selection import GridSearchCV\n",
    "from sklearn.model_selection import train_test_split\n",
    "from sklearn.neighbors import KNeighborsClassifier\n",
    "from sklearn.preprocessing import MinMaxScaler\n",
    "from sklearn.preprocessing import OneHotEncoder\n",
    "import tensorflow as tf"
   ]
  },
  {
   "attachments": {},
   "cell_type": "markdown",
   "metadata": {},
   "source": [
    "### Data Cleaning"
   ]
  },
  {
   "cell_type": "code",
   "execution_count": 85,
   "metadata": {},
   "outputs": [
    {
     "data": {
      "text/plain": [
       "(1102, 31)"
      ]
     },
     "metadata": {},
     "output_type": "display_data"
    },
    {
     "data": {
      "text/plain": [
       "(1000, 31)"
      ]
     },
     "metadata": {},
     "output_type": "display_data"
    },
    {
     "data": {
      "text/plain": [
       "(2102, 31)"
      ]
     },
     "metadata": {},
     "output_type": "display_data"
    },
    {
     "name": "stdout",
     "output_type": "stream",
     "text": [
      "<class 'pandas.core.frame.DataFrame'>\n",
      "Int64Index: 2102 entries, 0 to 999\n",
      "Data columns (total 11 columns):\n",
      " #   Column             Non-Null Count  Dtype  \n",
      "---  ------             --------------  -----  \n",
      " 0   NAICS              2102 non-null   object \n",
      " 1   Term               2102 non-null   int64  \n",
      " 2   NoEmp              2102 non-null   int64  \n",
      " 3   CreateJob          2102 non-null   int64  \n",
      " 4   RetainedJob        2102 non-null   int64  \n",
      " 5   UrbanRural         2102 non-null   object \n",
      " 6   DisbursementGross  2102 non-null   int64  \n",
      " 7   GrAppv             2102 non-null   int64  \n",
      " 8   New                2102 non-null   object \n",
      " 9   Portion            2102 non-null   float64\n",
      " 10  Recession          2102 non-null   object \n",
      "dtypes: float64(1), int64(6), object(4)\n",
      "memory usage: 197.1+ KB\n"
     ]
    },
    {
     "data": {
      "text/plain": [
       "None"
      ]
     },
     "metadata": {},
     "output_type": "display_data"
    },
    {
     "data": {
      "text/html": [
       "<div>\n",
       "<style scoped>\n",
       "    .dataframe tbody tr th:only-of-type {\n",
       "        vertical-align: middle;\n",
       "    }\n",
       "\n",
       "    .dataframe tbody tr th {\n",
       "        vertical-align: top;\n",
       "    }\n",
       "\n",
       "    .dataframe thead th {\n",
       "        text-align: right;\n",
       "    }\n",
       "</style>\n",
       "<table border=\"1\" class=\"dataframe\">\n",
       "  <thead>\n",
       "    <tr style=\"text-align: right;\">\n",
       "      <th></th>\n",
       "      <th>NAICS</th>\n",
       "      <th>Term</th>\n",
       "      <th>NoEmp</th>\n",
       "      <th>CreateJob</th>\n",
       "      <th>RetainedJob</th>\n",
       "      <th>UrbanRural</th>\n",
       "      <th>DisbursementGross</th>\n",
       "      <th>GrAppv</th>\n",
       "      <th>New</th>\n",
       "      <th>Portion</th>\n",
       "      <th>Recession</th>\n",
       "    </tr>\n",
       "  </thead>\n",
       "  <tbody>\n",
       "    <tr>\n",
       "      <th>0</th>\n",
       "      <td>531210</td>\n",
       "      <td>84</td>\n",
       "      <td>2</td>\n",
       "      <td>0</td>\n",
       "      <td>0</td>\n",
       "      <td>2</td>\n",
       "      <td>11000</td>\n",
       "      <td>11000</td>\n",
       "      <td>0</td>\n",
       "      <td>0.50000</td>\n",
       "      <td>0</td>\n",
       "    </tr>\n",
       "    <tr>\n",
       "      <th>1</th>\n",
       "      <td>531312</td>\n",
       "      <td>300</td>\n",
       "      <td>7</td>\n",
       "      <td>0</td>\n",
       "      <td>7</td>\n",
       "      <td>1</td>\n",
       "      <td>866800</td>\n",
       "      <td>866800</td>\n",
       "      <td>0</td>\n",
       "      <td>0.75000</td>\n",
       "      <td>0</td>\n",
       "    </tr>\n",
       "    <tr>\n",
       "      <th>2</th>\n",
       "      <td>532230</td>\n",
       "      <td>84</td>\n",
       "      <td>3</td>\n",
       "      <td>0</td>\n",
       "      <td>3</td>\n",
       "      <td>1</td>\n",
       "      <td>77377</td>\n",
       "      <td>85000</td>\n",
       "      <td>0</td>\n",
       "      <td>0.50000</td>\n",
       "      <td>0</td>\n",
       "    </tr>\n",
       "    <tr>\n",
       "      <th>3</th>\n",
       "      <td>531312</td>\n",
       "      <td>300</td>\n",
       "      <td>10</td>\n",
       "      <td>0</td>\n",
       "      <td>0</td>\n",
       "      <td>1</td>\n",
       "      <td>800100</td>\n",
       "      <td>810000</td>\n",
       "      <td>0</td>\n",
       "      <td>0.75000</td>\n",
       "      <td>0</td>\n",
       "    </tr>\n",
       "    <tr>\n",
       "      <th>4</th>\n",
       "      <td>531210</td>\n",
       "      <td>300</td>\n",
       "      <td>2</td>\n",
       "      <td>0</td>\n",
       "      <td>2</td>\n",
       "      <td>1</td>\n",
       "      <td>1054200</td>\n",
       "      <td>1056200</td>\n",
       "      <td>0</td>\n",
       "      <td>0.72611</td>\n",
       "      <td>0</td>\n",
       "    </tr>\n",
       "  </tbody>\n",
       "</table>\n",
       "</div>"
      ],
      "text/plain": [
       "    NAICS  Term  NoEmp  CreateJob  RetainedJob UrbanRural  DisbursementGross  \\\n",
       "0  531210    84      2          0            0          2              11000   \n",
       "1  531312   300      7          0            7          1             866800   \n",
       "2  532230    84      3          0            3          1              77377   \n",
       "3  531312   300     10          0            0          1             800100   \n",
       "4  531210   300      2          0            2          1            1054200   \n",
       "\n",
       "    GrAppv New  Portion Recession  \n",
       "0    11000   0  0.50000         0  \n",
       "1   866800   0  0.75000         0  \n",
       "2    85000   0  0.50000         0  \n",
       "3   810000   0  0.75000         0  \n",
       "4  1056200   0  0.72611         0  "
      ]
     },
     "metadata": {},
     "output_type": "display_data"
    }
   ],
   "source": [
    "# read data from .csvs\n",
    "trainDF = pd.read_csv('./loan_train.csv')\n",
    "testDF = pd.read_csv('./loan_test.csv')\n",
    "\n",
    "# separate response/prediction columns\n",
    "trainResp = np.where(trainDF['MIS_Status'] == 'P I F', 1, 0)\n",
    "trainDF.drop('MIS_Status', axis = 1, inplace = True)\n",
    "testIDs = testDF['CustomerId']\n",
    "testDF.drop('CustomerId', axis = 1, inplace = True)\n",
    "\n",
    "# combine data sets for preprocessing\n",
    "trainDF['source'] = 'train'\n",
    "testDF['source'] = 'test'\n",
    "fullDF = pd.concat([trainDF, testDF], axis = 0)\n",
    "\n",
    "# check data frame dimensions\n",
    "display(trainDF.shape)\n",
    "display(testDF.shape)\n",
    "display(fullDF.shape)\n",
    "\n",
    "# factor categorical predictors\n",
    "fullDF['NAICS'] = fullDF['NAICS'].apply(lambda x: str(x))\n",
    "fullDF['NewExist'] = fullDF['NewExist'].apply(lambda x: str(x))\n",
    "fullDF['UrbanRural'] = fullDF['UrbanRural'].apply(lambda x: str(x))\n",
    "fullDF['RevLineCr'] = np.where(fullDF['RevLineCr'] == 'Y', 'Y', 'N')\n",
    "fullDF['LowDoc'] = np.where(fullDF['LowDoc'] == 'Y', 'Y', 'N')\n",
    "fullDF['New'] = fullDF['New'].apply(lambda x: str(x))\n",
    "fullDF['RealEstate'] = fullDF['RealEstate'].apply(lambda x: str(x))\n",
    "fullDF['Recession'] = fullDF['Recession'].apply(lambda x: str(x))\n",
    "\n",
    "# selected predictors\n",
    "predictors = ['NAICS', 'Term', 'NoEmp', 'CreateJob', 'RetainedJob', 'UrbanRural', 'DisbursementGross', 'GrAppv', 'New', 'Portion', 'Recession']\n",
    "src = fullDF['source']\n",
    "fullDF = fullDF[predictors]\n",
    "\n",
    "# check data types\n",
    "display(fullDF.info())\n",
    "\n",
    "# peek at data\n",
    "display(fullDF.head())"
   ]
  },
  {
   "cell_type": "code",
   "execution_count": 86,
   "metadata": {},
   "outputs": [],
   "source": [
    "# scale numeric predictors and encode categorical predictors\n",
    "findNumPredictors = make_column_selector(dtype_exclude = object)\n",
    "findCatPredictors = make_column_selector(dtype_include = object)\n",
    "transform = make_column_transformer((MinMaxScaler(), findNumPredictors),\n",
    "                                    (OneHotEncoder(), findCatPredictors))\n",
    "\n",
    "# get new column names\n",
    "colNames = transform.fit(fullDF).get_feature_names_out()\n",
    "\n",
    "# transform data\n",
    "modelDF = pd.DataFrame.sparse.from_spmatrix(transform.fit_transform(fullDF), columns = colNames)"
   ]
  },
  {
   "cell_type": "code",
   "execution_count": 87,
   "metadata": {},
   "outputs": [
    {
     "data": {
      "text/plain": [
       "(881, 38)"
      ]
     },
     "metadata": {},
     "output_type": "display_data"
    },
    {
     "data": {
      "text/plain": [
       "(881,)"
      ]
     },
     "metadata": {},
     "output_type": "display_data"
    },
    {
     "data": {
      "text/plain": [
       "(221, 38)"
      ]
     },
     "metadata": {},
     "output_type": "display_data"
    },
    {
     "data": {
      "text/plain": [
       "(221,)"
      ]
     },
     "metadata": {},
     "output_type": "display_data"
    },
    {
     "data": {
      "text/plain": [
       "(1000, 38)"
      ]
     },
     "metadata": {},
     "output_type": "display_data"
    }
   ],
   "source": [
    "# split data into training, validation, and test sets\n",
    "modelTrain = modelDF.loc[np.where(src == 'train')]\n",
    "modelTest = modelDF.iloc[np.where(src == 'test')]\n",
    "X_train, X_valid, y_train, y_valid = train_test_split(modelTrain, trainResp, test_size = 0.2, random_state = 4192023)\n",
    "\n",
    "# check data frame dimensions\n",
    "display(X_train.shape)\n",
    "display(y_train.shape)\n",
    "display(X_valid.shape)\n",
    "display(y_valid.shape)\n",
    "display(modelTest.shape) "
   ]
  },
  {
   "attachments": {},
   "cell_type": "markdown",
   "metadata": {},
   "source": [
    "### Modeling"
   ]
  },
  {
   "cell_type": "code",
   "execution_count": 79,
   "metadata": {},
   "outputs": [
    {
     "name": "stdout",
     "output_type": "stream",
     "text": [
      "Fitting 5 folds for each of 49 candidates, totalling 245 fits\n",
      "Neighbors considered: 13\n",
      "Cross-validation accuracy: 76.16%\n"
     ]
    }
   ],
   "source": [
    "# set random seed\n",
    "np.random.seed(4192023)\n",
    "\n",
    "# tune KNN model\n",
    "Kvalues = range(1, 50)\n",
    "knnFit = KNeighborsClassifier()\n",
    "knnTune = GridSearchCV(knnFit, param_grid = {'n_neighbors': Kvalues}, cv = 5, n_jobs = -1, verbose = 1)\n",
    "knnTune.fit(X_train, y_train)\n",
    "K = knnTune.best_params_['n_neighbors']\n",
    "\n",
    "# fit KNN model\n",
    "knnFit = KNeighborsClassifier(n_neighbors = K)\n",
    "cvResults = cross_val_score(knnFit, X_train, y_train, cv = 10, n_jobs = -1, verbose = 0)\n",
    "\n",
    "# cross-validation accuracy\n",
    "print(f\"Neighbors considered: {K}\")\n",
    "print(f\"Cross-validation accuracy: {(np.mean(cvResults) * 100).round(2)}%\")"
   ]
  },
  {
   "cell_type": "code",
   "execution_count": 73,
   "metadata": {},
   "outputs": [
    {
     "name": "stdout",
     "output_type": "stream",
     "text": [
      "Fitting 5 folds for each of 37 candidates, totalling 185 fits\n",
      "Features considered: 9\n",
      "Cross-validation accuracy: 80.02%\n"
     ]
    }
   ],
   "source": [
    "# tune random forest classifier\n",
    "Mvalues = range(1, len(X_train.columns))\n",
    "rfFit = RandomForestClassifier(random_state = 4192023)\n",
    "rfTune = GridSearchCV(rfFit, param_grid = {'max_features': Mvalues}, cv = 5, n_jobs = -1, verbose = 1)\n",
    "rfTune.fit(X_train, y_train)\n",
    "M = rfTune.best_params_['max_features']\n",
    "\n",
    "# fit random forest model\n",
    "rfFit = RandomForestClassifier(max_features = M, n_estimators = 1000, random_state = 4192023)\n",
    "cvResults = cross_val_score(rfFit, X_train, y_train, cv = 10, n_jobs = -1, verbose = 0)\n",
    "\n",
    "# cross-validation accuracy\n",
    "print(f\"Features considered: {M}\")\n",
    "print(f\"Cross-validation accuracy: {(np.mean(cvResults) * 100).round(2)}%\")"
   ]
  },
  {
   "cell_type": "code",
   "execution_count": 77,
   "metadata": {},
   "outputs": [
    {
     "name": "stdout",
     "output_type": "stream",
     "text": [
      "Fitting 5 folds for each of 42 candidates, totalling 210 fits\n",
      "Learning rate: 0.1\n",
      "Maximum depth: 1\n",
      "Cross-validation accuracy: 81.95%\n"
     ]
    }
   ],
   "source": [
    "# tune gradient boosted classifier\n",
    "Lvalues = [.001, .01, .1, 1, 10, 100]\n",
    "Dvalues = range(1, 8)\n",
    "gbFit = GradientBoostingClassifier(n_estimators = 1000, random_state = 4192023)\n",
    "gbTune = GridSearchCV(gbFit, param_grid = {'learning_rate': Lvalues, 'max_depth': Dvalues}, cv = 5, n_jobs = -1, verbose = 1)\n",
    "gbTune.fit(X_train, y_train)\n",
    "L = gbTune.best_params_['learning_rate']\n",
    "D = gbTune.best_params_['max_depth']\n",
    "\n",
    "# fit gradient boosted model\n",
    "gbFit = GradientBoostingClassifier(learning_rate = L, max_depth = D, n_estimators = 1000, random_state = 4192023)\n",
    "cvResults = cross_val_score(gbFit, X_train, y_train, cv = 10, n_jobs = -1, verbose = 0)\n",
    "\n",
    "# cross-validation accuracy\n",
    "print(f\"Learning rate: {L}\")\n",
    "print(f\"Maximum depth: {D}\")\n",
    "print(f\"Cross-validation accuracy: {(np.mean(cvResults) * 100).round(2)}%\")"
   ]
  },
  {
   "cell_type": "code",
   "execution_count": 115,
   "metadata": {},
   "outputs": [],
   "source": [
    "# F1 score function\n",
    "def F1Score(y_true, y_pred):\n",
    "    # confusion metrics\n",
    "    tp = back.sum(back.round(back.clip(y_true * y_pred, 0, 1)))\n",
    "    possp = back.sum(back.round(back.clip(y_true, 0, 1)))\n",
    "    predp = back.sum(back.round(back.clip(y_pred, 0, 1)))\n",
    "\n",
    "    # compute precision and recall\n",
    "    precision = tp / (predp + back.epsilon())\n",
    "    recall = tp / (possp + back.epsilon())\n",
    "\n",
    "    # compute F1 score\n",
    "    f1 = 2 * (precision * recall) / (precision + recall + back.epsilon())\n",
    "    return f1\n",
    "\n",
    "# model fitting and evaluation function\n",
    "def EvaluateModel(model):\n",
    "    # set random seed\n",
    "    np.random.seed(462023)\n",
    "    tf.random.set_seed(482023)\n",
    "\n",
    "    # compile model\n",
    "    model.compile(optimizer = 'rmsprop',\n",
    "                  loss = 'categorical_crossentropy',\n",
    "                  metrics = ['accuracy', F1Score])\n",
    "\n",
    "    # model summary\n",
    "    model.summary()\n",
    "\n",
    "    # number of epochs\n",
    "    EPOCHS = 50\n",
    "\n",
    "    # early stopping criteria\n",
    "    earlyStop = EarlyStopping(monitor = 'F1Score', mode = 'max', verbose = 1, patience = 3)\n",
    "\n",
    "    # train model\n",
    "    trained = model.fit(X_train, \n",
    "                        to_categorical(y_train), \n",
    "                        epochs = EPOCHS, \n",
    "                        batch_size = 100, \n",
    "                        validation_split = 0.2,\n",
    "                        callbacks = earlyStop,\n",
    "                        verbose = 1)\n",
    "\n",
    "    # prepare model evaluation\n",
    "    acc = trained.history['accuracy']\n",
    "    val_acc = trained.history['val_accuracy']\n",
    "    loss = trained.history['loss']\n",
    "    val_loss = trained.history['val_loss']\n",
    "    epochs = range(1, len(acc) + 1)\n",
    "\n",
    "    # plot training accuracy\n",
    "    plt.plot(epochs, acc, 'bo', label='Training acc')\n",
    "    plt.plot(epochs, val_acc, 'b', label='Validation acc')\n",
    "    plt.xlabel('Epochs')\n",
    "    plt.ylabel('Accuracy')\n",
    "    plt.title('Training and Validation Accuracy')\n",
    "    plt.legend()\n",
    "    plt.figure()\n",
    "    plt.plot(epochs, loss, 'bo', label='Training loss')\n",
    "    plt.plot(epochs, val_loss, 'b', label='Validation loss')\n",
    "    plt.xlabel('Epochs')\n",
    "    plt.ylabel('Loss')\n",
    "    plt.title('Training and Validation Loss')\n",
    "    plt.legend()\n",
    "    plt.show()"
   ]
  },
  {
   "cell_type": "code",
   "execution_count": 116,
   "metadata": {},
   "outputs": [
    {
     "name": "stdout",
     "output_type": "stream",
     "text": [
      "Model: \"sequential_14\"\n",
      "_________________________________________________________________\n",
      " Layer (type)                Output Shape              Param #   \n",
      "=================================================================\n",
      " dense_70 (Dense)            (None, 512)               19968     \n",
      "                                                                 \n",
      " dense_71 (Dense)            (None, 256)               131328    \n",
      "                                                                 \n",
      " dense_72 (Dense)            (None, 128)               32896     \n",
      "                                                                 \n",
      " dense_73 (Dense)            (None, 64)                8256      \n",
      "                                                                 \n",
      " dense_74 (Dense)            (None, 32)                2080      \n",
      "                                                                 \n",
      " dense_75 (Dense)            (None, 2)                 66        \n",
      "                                                                 \n",
      "=================================================================\n",
      "Total params: 194,594\n",
      "Trainable params: 194,594\n",
      "Non-trainable params: 0\n",
      "_________________________________________________________________\n",
      "Epoch 1/50\n",
      "8/8 [==============================] - 1s 111ms/step - loss: 0.6581 - accuracy: 0.6080 - F1Score: 0.5079 - val_loss: 0.6336 - val_accuracy: 0.6610 - val_F1Score: 0.5797\n",
      "Epoch 2/50\n",
      "8/8 [==============================] - 0s 26ms/step - loss: 0.5987 - accuracy: 0.6889 - F1Score: 0.6192 - val_loss: 0.7154 - val_accuracy: 0.5028 - val_F1Score: 0.4914\n",
      "Epoch 3/50\n",
      "8/8 [==============================] - 0s 25ms/step - loss: 0.5950 - accuracy: 0.6676 - F1Score: 0.6138 - val_loss: 0.6527 - val_accuracy: 0.6215 - val_F1Score: 0.5007\n",
      "Epoch 4/50\n",
      "8/8 [==============================] - 0s 24ms/step - loss: 0.5782 - accuracy: 0.7017 - F1Score: 0.7023 - val_loss: 0.6619 - val_accuracy: 0.6384 - val_F1Score: 0.6057\n",
      "Epoch 5/50\n",
      "8/8 [==============================] - 0s 25ms/step - loss: 0.5502 - accuracy: 0.7173 - F1Score: 0.6719 - val_loss: 0.9696 - val_accuracy: 0.4407 - val_F1Score: 0.4288\n",
      "Epoch 6/50\n",
      "8/8 [==============================] - 0s 24ms/step - loss: 0.6258 - accuracy: 0.6790 - F1Score: 0.5758 - val_loss: 0.6315 - val_accuracy: 0.6215 - val_F1Score: 0.6126\n",
      "Epoch 7/50\n",
      "8/8 [==============================] - 0s 24ms/step - loss: 0.5464 - accuracy: 0.7330 - F1Score: 0.7069 - val_loss: 0.8251 - val_accuracy: 0.5876 - val_F1Score: 0.5910\n",
      "Epoch 8/50\n",
      "8/8 [==============================] - 0s 23ms/step - loss: 0.5688 - accuracy: 0.7088 - F1Score: 0.6762 - val_loss: 0.6264 - val_accuracy: 0.6215 - val_F1Score: 0.6028\n",
      "Epoch 9/50\n",
      "8/8 [==============================] - 0s 23ms/step - loss: 0.5341 - accuracy: 0.7287 - F1Score: 0.7438 - val_loss: 0.6694 - val_accuracy: 0.6271 - val_F1Score: 0.5782\n",
      "Epoch 10/50\n",
      "8/8 [==============================] - 0s 23ms/step - loss: 0.5333 - accuracy: 0.7415 - F1Score: 0.7478 - val_loss: 0.7238 - val_accuracy: 0.6158 - val_F1Score: 0.5940\n",
      "Epoch 11/50\n",
      "8/8 [==============================] - 0s 23ms/step - loss: 0.5240 - accuracy: 0.7472 - F1Score: 0.7617 - val_loss: 0.7141 - val_accuracy: 0.6102 - val_F1Score: 0.5954\n",
      "Epoch 12/50\n",
      "8/8 [==============================] - 0s 23ms/step - loss: 0.5236 - accuracy: 0.7457 - F1Score: 0.7309 - val_loss: 0.7418 - val_accuracy: 0.6045 - val_F1Score: 0.5906\n",
      "Epoch 13/50\n",
      "8/8 [==============================] - 0s 23ms/step - loss: 0.5263 - accuracy: 0.7401 - F1Score: 0.7509 - val_loss: 0.7915 - val_accuracy: 0.6045 - val_F1Score: 0.5893\n",
      "Epoch 14/50\n",
      "8/8 [==============================] - 0s 23ms/step - loss: 0.5269 - accuracy: 0.7344 - F1Score: 0.7278 - val_loss: 0.6580 - val_accuracy: 0.6328 - val_F1Score: 0.5934\n",
      "Epoch 14: early stopping\n"
     ]
    },
    {
     "data": {
      "image/png": "[encoded data removed]",
      "text/plain": [
       "<Figure size 640x480 with 1 Axes>"
      ]
     },
     "metadata": {},
     "output_type": "display_data"
    },
    {
     "data": {
      "image/png": "[encoded data removed]",
      "text/plain": [
       "<Figure size 640x480 with 1 Axes>"
      ]
     },
     "metadata": {},
     "output_type": "display_data"
    }
   ],
   "source": [
    "# define model architecture\n",
    "model = models.Sequential([\n",
    "    Dense(512, activation = 'relu', input_shape = (X_train.shape[1], )),\n",
    "    Dense(256, activation = 'relu'),\n",
    "    Dense(128, activation = 'relu'),\n",
    "    Dense(64, activation = 'relu'),\n",
    "    Dense(32, activation = 'relu'),\n",
    "    Dense(2, activation = 'sigmoid')\n",
    "])\n",
    "\n",
    "# evaluate model\n",
    "EvaluateModel(model)"
   ]
  }
 ],
 "metadata": {
  "kernelspec": {
   "display_name": "dsci",
   "language": "python",
   "name": "python3"
  },
  "language_info": {
   "codemirror_mode": {
    "name": "ipython",
    "version": 3
   },
   "file_extension": ".py",
   "mimetype": "text/x-python",
   "name": "python",
   "nbconvert_exporter": "python",
   "pygments_lexer": "ipython3",
   "version": "3.8.15"
  },
  "orig_nbformat": 4
 },
 "nbformat": 4,
 "nbformat_minor": 2
}
