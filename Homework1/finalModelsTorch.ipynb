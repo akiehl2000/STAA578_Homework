{
 "cells": [
  {
   "cell_type": "code",
   "execution_count": 341,
   "metadata": {},
   "outputs": [],
   "source": [
    "# import packages\n",
    "import numpy as np\n",
    "import pandas as pd\n",
    "import sklearn\n",
    "from sklearn import compose\n",
    "from sklearn.compose import make_column_selector\n",
    "from sklearn.compose import make_column_transformer\n",
    "from sklearn.model_selection import train_test_split\n",
    "from sklearn import preprocessing\n",
    "from sklearn.preprocessing import MinMaxScaler\n",
    "from sklearn.preprocessing import OneHotEncoder\n",
    "import torch\n",
    "import torch.autograd as auto\n",
    "from torch.autograd import Variable\n",
    "import torch.nn as nn\n",
    "import torch.optim as optim\n",
    "import torch.utils.data as data\n",
    "from torch.utils.data import Dataset, DataLoader"
   ]
  },
  {
   "cell_type": "markdown",
   "metadata": {},
   "source": [
    "## Data Preprocessing"
   ]
  },
  {
   "cell_type": "code",
   "execution_count": 237,
   "metadata": {},
   "outputs": [],
   "source": [
    "# read data from .csvs\n",
    "trainDF = pd.read_csv('./adult.csv')\n",
    "testDF = pd.read_csv('./adult_test.csv')\n",
    "\n",
    "# drop id column (won't be used for modeling)\n",
    "trainDF.drop('id', axis=1, inplace=True)\n",
    "testIds = testDF['id']\n",
    "testDF.drop('id', axis=1, inplace=True)"
   ]
  },
  {
   "cell_type": "code",
   "execution_count": 284,
   "metadata": {},
   "outputs": [],
   "source": [
    "# define custom transform\n",
    "class CustomTransform:\n",
    "    def __init__(self, num_scaler, cat_encoder, out_encoder):\n",
    "        self.num_scaler = num_scaler\n",
    "        self.cat_encoder = cat_encoder\n",
    "        self.out_encoder = out_encoder\n",
    "\n",
    "    def __call__(self, predictors, labels):        \n",
    "        num_features = predictors.select_dtypes(include=[np.number])\n",
    "        cat_features = predictors.select_dtypes(include=[object])\n",
    "        \n",
    "        num_scaled = self.num_scaler.transform(num_features)\n",
    "        cat_encoded = self.cat_encoder.transform(cat_features).toarray()\n",
    "        out_encoded = self.out_encoder.transform(labels).toarray()\n",
    "\n",
    "        transformed = np.concatenate([num_scaled, cat_encoded], axis=1)\n",
    "\n",
    "        return transformed, out_encoded"
   ]
  },
  {
   "cell_type": "code",
   "execution_count": 290,
   "metadata": {},
   "outputs": [],
   "source": [
    "# define custom dataset\n",
    "class CustomDataset(Dataset):\n",
    "    def __init__(self, data, transform=None):\n",
    "        self.data = data\n",
    "        self.transform = transform\n",
    "\n",
    "    def __len__(self):\n",
    "        return len(self.data)\n",
    "\n",
    "    def __getitem__(self, idx):\n",
    "        sample = self.data.iloc[[idx]].copy()\n",
    "\n",
    "        predictors = sample.drop('income', axis = 1)\n",
    "        labels = pd.DataFrame(sample['income'])\n",
    "\n",
    "        if self.transform:\n",
    "            predictors, labels = self.transform(predictors, labels)\n",
    "        \n",
    "        return predictors, labels"
   ]
  },
  {
   "cell_type": "code",
   "execution_count": 293,
   "metadata": {},
   "outputs": [],
   "source": [
    "# scale numeric predictors and encode categorical predictors\n",
    "num_scaler = MinMaxScaler()\n",
    "cat_encoder = OneHotEncoder(drop='first')\n",
    "out_encoder = OneHotEncoder(drop='first')\n",
    "\n",
    "num_features_train = trainDF.drop('income', axis = 1).select_dtypes(include=[np.number])\n",
    "cat_features_train = trainDF.drop('income', axis = 1).select_dtypes(include=[object])\n",
    "out_features_train = pd.DataFrame(trainDF['income'])\n",
    "\n",
    "num_scaler.fit(num_features_train)\n",
    "cat_encoder.fit(cat_features_train)\n",
    "out_encoder.fit(out_features_train)\n",
    "# out_encoder.fit(np.array(out_features_train).reshape(-1, 1))\n",
    "\n",
    "# define transformation function\n",
    "transform = CustomTransform(num_scaler, cat_encoder, out_encoder)"
   ]
  },
  {
   "cell_type": "code",
   "execution_count": 294,
   "metadata": {},
   "outputs": [],
   "source": [
    "# create custom dataset\n",
    "train_dataset = CustomDataset(trainDF, transform=transform)\n",
    "test_dataset = CustomDataset(testDF, transform=transform)\n",
    "\n",
    "# set random seed\n",
    "np.random.seed(432023)\n",
    "\n",
    "# split data into training and validation sets\n",
    "train_size = int(0.8 * len(train_dataset))\n",
    "valid_size = len(train_dataset) - train_size\n",
    "train_data, valid_data = data.random_split(train_dataset, [train_size, valid_size])\n",
    "\n",
    "# create DataLoader objects\n",
    "train_loader = DataLoader(train_data, batch_size=128, shuffle=True)\n",
    "valid_loader = DataLoader(valid_data, batch_size=128)\n",
    "\n",
    "# convert data to PyTorch tensors\n",
    "X_train_tensor, y_train_tensor = zip(*train_loader)\n",
    "X_valid_tensor, y_valid_tensor = zip(*valid_loader)\n",
    "\n",
    "X_train_tensor = torch.cat(list(X_train_tensor), dim=0)\n",
    "y_train_tensor = torch.cat(list(y_train_tensor), dim=0)\n",
    "X_valid_tensor = torch.cat(list(X_valid_tensor), dim=0)\n",
    "y_valid_tensor = torch.cat(list(y_valid_tensor), dim=0)"
   ]
  },
  {
   "cell_type": "markdown",
   "metadata": {},
   "source": [
    "## Define Model"
   ]
  },
  {
   "cell_type": "code",
   "execution_count": 319,
   "metadata": {},
   "outputs": [],
   "source": [
    "# define model architecture\n",
    "class MLP(nn.Module):\n",
    "    def __init__(self, input_size):\n",
    "        super(MLP, self).__init__()\n",
    "        self.fc1 = nn.Linear(input_size, 512)\n",
    "        self.fc2 = nn.Linear(512, 256)\n",
    "        self.fc3 = nn.Linear(256, 128)\n",
    "        self.fc4 = nn.Linear(128, 2)\n",
    "        self.relu = nn.ReLU()\n",
    "        self.sigmoid = nn.Sigmoid()\n",
    "        \n",
    "    def forward(self, x):\n",
    "        x = x.to(torch.float32)\n",
    "        x = self.relu(self.fc1(x))\n",
    "        x = self.relu(self.fc2(x))\n",
    "        x = self.relu(self.fc3(x))\n",
    "        x = self.sigmoid(self.fc4(x))\n",
    "        return x"
   ]
  },
  {
   "cell_type": "markdown",
   "metadata": {},
   "source": [
    "## Train Model"
   ]
  },
  {
   "cell_type": "code",
   "execution_count": 343,
   "metadata": {},
   "outputs": [
    {
     "name": "stdout",
     "output_type": "stream",
     "text": [
      "Epoch 1 - Loss: 149.18241687849456\n",
      "Epoch 2 - Loss: 149.17216450560326\n",
      "Epoch 3 - Loss: 149.19169470843147\n",
      "Epoch 4 - Loss: 149.1845801671346\n",
      "Epoch 5 - Loss: 149.18455449272605\n",
      "Epoch 6 - Loss: 149.17412185668945\n",
      "Epoch 7 - Loss: 149.1708838518928\n",
      "Epoch 8 - Loss: 149.17612535813277\n",
      "Epoch 9 - Loss: 149.16206797431497\n",
      "Epoch 10 - Loss: 149.16241238163965\n"
     ]
    }
   ],
   "source": [
    "# set random seeds\n",
    "torch.manual_seed(462023)\n",
    "np.random.seed(462023)\n",
    "\n",
    "# number of epochs\n",
    "EPOCHS = 10\n",
    "\n",
    "# initialize the model\n",
    "model = MLP(X_train_tensor.shape[2])\n",
    "\n",
    "# define the loss function and optimizer\n",
    "criterion = nn.CrossEntropyLoss()\n",
    "optimizer = optim.RMSprop(model.parameters())\n",
    "\n",
    "# train the model\n",
    "for epoch in range(EPOCHS):\n",
    "    running_loss = 0.0\n",
    "    for inputs, labels in train_loader:\n",
    "        optimizer.zero_grad()\n",
    "        \n",
    "        # forward pass\n",
    "        outputs = model(inputs)\n",
    "        outputs = torch.Tensor(torch.argmax(outputs[:, 0], dim=1).numpy().astype(int))\n",
    "        outputs = Variable(outputs, requires_grad = True)\n",
    "        labels = torch.Tensor(labels[:, 0, 0].numpy().astype(int))\n",
    "        loss = criterion(outputs, labels)\n",
    "    \n",
    "        # backward pass and optimization\n",
    "        loss.backward()\n",
    "        optimizer.step()\n",
    "    \n",
    "        running_loss += loss.item()\n",
    "\n",
    "    # Print the average loss for the epoch\n",
    "    print(f\"Epoch {epoch+1} - Loss: {running_loss / len(train_loader)}\")"
   ]
  },
  {
   "cell_type": "markdown",
   "metadata": {},
   "source": [
    "## Model Evaluation"
   ]
  },
  {
   "cell_type": "code",
   "execution_count": 346,
   "metadata": {},
   "outputs": [
    {
     "name": "stdout",
     "output_type": "stream",
     "text": [
      "Validation accuracy: 76.03%\n"
     ]
    }
   ],
   "source": [
    "# set the model to evaluation mode\n",
    "model.eval()\n",
    "\n",
    "# predict on validation set\n",
    "with torch.no_grad():\n",
    "    pred = model(X_valid_tensor)\n",
    "    pred = torch.argmax(pred[:, 0], dim=1).numpy()\n",
    "\n",
    "# calculate validation accuracy\n",
    "accuracy = (pred == y_valid).mean() * 100\n",
    "print(f\"Validation accuracy: {accuracy.round(2)}%\")"
   ]
  }
 ],
 "metadata": {
  "kernelspec": {
   "display_name": "pytorch",
   "language": "python",
   "name": "python3"
  },
  "language_info": {
   "codemirror_mode": {
    "name": "ipython",
    "version": 3
   },
   "file_extension": ".py",
   "mimetype": "text/x-python",
   "name": "python",
   "nbconvert_exporter": "python",
   "pygments_lexer": "ipython3",
   "version": "3.11.3"
  },
  "orig_nbformat": 4
 },
 "nbformat": 4,
 "nbformat_minor": 2
}
