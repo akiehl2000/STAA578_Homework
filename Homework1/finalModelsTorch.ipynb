{
 "cells": [
  {
   "cell_type": "code",
   "execution_count": 2,
   "metadata": {},
   "outputs": [],
   "source": [
    "# import packages\n",
    "import numpy as np\n",
    "import pandas as pd\n",
    "import sklearn\n",
    "from sklearn import compose\n",
    "from sklearn.compose import make_column_selector\n",
    "from sklearn.compose import make_column_transformer\n",
    "from sklearn.model_selection import train_test_split\n",
    "from sklearn import preprocessing\n",
    "from sklearn.preprocessing import MinMaxScaler\n",
    "from sklearn.preprocessing import OneHotEncoder\n",
    "import torch\n",
    "import torch.nn as nn\n",
    "import torch.optim as optim\n",
    "import torch.utils.data as data"
   ]
  },
  {
   "cell_type": "markdown",
   "metadata": {},
   "source": [
    "## Data Preparation"
   ]
  },
  {
   "cell_type": "code",
   "execution_count": null,
   "metadata": {},
   "outputs": [],
   "source": [
    "# read data from .csvs\n",
    "trainDF = pd.read_csv('./adult.csv')\n",
    "testDF = pd.read_csv('./adult_test.csv')\n",
    "\n",
    "# drop id column (wont be used for modeling)\n",
    "trainDF.drop('id', axis = 1, inplace = True)\n",
    "testIds = testDF['id']\n",
    "testDF.drop('id', axis = 1, inplace = True)"
   ]
  },
  {
   "cell_type": "code",
   "execution_count": null,
   "metadata": {},
   "outputs": [],
   "source": [
    "# scale numeric predictors and encode categorical predictors\n",
    "findNumPredictors = make_column_selector(dtype_include = int)\n",
    "findCatPredictors = make_column_selector(dtype_include = object)\n",
    "transform = make_column_transformer((MinMaxScaler(), findNumPredictors),\n",
    "                                    (OneHotEncoder(drop = 'first'), findCatPredictors))\n",
    "\n",
    "# get new column names\n",
    "colNames = transform.fit(trainDF).get_feature_names_out()\n",
    "\n",
    "# transform data\n",
    "modelDF = pd.DataFrame.sparse.from_spmatrix(transform.fit_transform(trainDF), columns = colNames)\n",
    "\n",
    "# get new column names\n",
    "colNames = transform.fit(testDF).get_feature_names_out()\n",
    "\n",
    "# transform data\n",
    "predDF = pd.DataFrame.sparse.from_spmatrix(transform.fit_transform(testDF), columns = colNames)\n",
    "\n",
    "# set random seed\n",
    "np.random.seed(432023)\n",
    "\n",
    "# split data into predictors and response\n",
    "respTrain = modelDF['onehotencoder__income_>50K'].rename('income')\n",
    "modelDF.drop('onehotencoder__income_>50K', axis = 1, inplace = True)\n",
    "\n",
    "# split data into training and validation sets\n",
    "X_train, X_valid, y_train, y_valid = train_test_split(modelDF, respTrain, test_size = 0.2)\n",
    "\n",
    "# convert data to pytorch tensors\n",
    "X_train_tensor = torch.tensor(X_train, dtype=torch.float32)\n",
    "y_train_tensor = torch.tensor(y_train, dtype=torch.long)\n",
    "X_valid_tensor = torch.tensor(X_valid, dtype=torch.float32)"
   ]
  }
 ],
 "metadata": {
  "kernelspec": {
   "display_name": "pytorch",
   "language": "python",
   "name": "python3"
  },
  "language_info": {
   "codemirror_mode": {
    "name": "ipython",
    "version": 3
   },
   "file_extension": ".py",
   "mimetype": "text/x-python",
   "name": "python",
   "nbconvert_exporter": "python",
   "pygments_lexer": "ipython3",
   "version": "3.11.3"
  },
  "orig_nbformat": 4
 },
 "nbformat": 4,
 "nbformat_minor": 2
}
