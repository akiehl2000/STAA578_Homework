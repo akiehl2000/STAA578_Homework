{
 "cells": [
  {
   "cell_type": "code",
   "execution_count": 85,
   "metadata": {},
   "outputs": [],
   "source": [
    "# import packages\n",
    "import matplotlib.pyplot as plt\n",
    "import numpy as np\n",
    "import pandas as pd\n",
    "import sklearn\n",
    "from sklearn import compose\n",
    "from sklearn.compose import make_column_selector\n",
    "from sklearn.compose import make_column_transformer\n",
    "from sklearn.model_selection import train_test_split\n",
    "from sklearn import preprocessing\n",
    "from sklearn.preprocessing import MinMaxScaler\n",
    "from sklearn.preprocessing import OneHotEncoder\n",
    "import time\n",
    "import torch\n",
    "import torch.nn as nn\n",
    "import torch.optim as optim\n",
    "from tqdm import tqdm"
   ]
  },
  {
   "cell_type": "markdown",
   "metadata": {},
   "source": [
    "## Data Preprocessing"
   ]
  },
  {
   "cell_type": "code",
   "execution_count": 21,
   "metadata": {},
   "outputs": [
    {
     "name": "stdout",
     "output_type": "stream",
     "text": [
      "   id  age         workclass  fnlwgt  education  education_num  \\\n",
      "0   1   39         State-gov   77516  Bachelors             13   \n",
      "1   2   50  Self-emp-not-inc   83311  Bachelors             13   \n",
      "2   3   38           Private  215646    HS-grad              9   \n",
      "3   4   53           Private  234721       11th              7   \n",
      "4   5   28           Private  338409  Bachelors             13   \n",
      "\n",
      "       marital_status         occupation   relationship   race     sex  \\\n",
      "0       Never-married       Adm-clerical  Not-in-family  White    Male   \n",
      "1  Married-civ-spouse    Exec-managerial        Husband  White    Male   \n",
      "2            Divorced  Handlers-cleaners  Not-in-family  White    Male   \n",
      "3  Married-civ-spouse  Handlers-cleaners        Husband  Black    Male   \n",
      "4  Married-civ-spouse     Prof-specialty           Wife  Black  Female   \n",
      "\n",
      "   capital_gain  capital_loss  hours_per_week native_country income  \n",
      "0          2174             0              40  United-States  <=50K  \n",
      "1             0             0              13  United-States  <=50K  \n",
      "2             0             0              40  United-States  <=50K  \n",
      "3             0             0              40  United-States  <=50K  \n",
      "4             0             0              40           Cuba  <=50K  \n"
     ]
    }
   ],
   "source": [
    "# read data from .csv file\n",
    "data_raw = pd.read_csv('./adult.csv')\n",
    "\n",
    "# peek at raw data\n",
    "print(data_raw.head())"
   ]
  },
  {
   "cell_type": "code",
   "execution_count": 22,
   "metadata": {},
   "outputs": [],
   "source": [
    "# scale numeric predictors and encode categorical predictors\n",
    "findNumPredictors = make_column_selector(dtype_include = int)\n",
    "findCatPredictors = make_column_selector(dtype_include = object)\n",
    "transform = make_column_transformer((MinMaxScaler(), findNumPredictors),\n",
    "                                    (OneHotEncoder(drop = 'first'), findCatPredictors))\n",
    "\n",
    "# get new column names\n",
    "colNames = transform.fit(data_raw).get_feature_names_out()\n",
    "\n",
    "# transform data\n",
    "data_trans = pd.DataFrame.sparse.from_spmatrix(transform.fit_transform(data_raw), columns = colNames)\n",
    "\n",
    "# set random seed\n",
    "np.random.seed(7212023)\n",
    "\n",
    "# split data into predictors and response\n",
    "resp = data_trans['onehotencoder__income_>50K'].rename('income')\n",
    "data_trans.drop('onehotencoder__income_>50K', axis = 1, inplace = True)\n",
    "\n",
    "# split data into training and validation sets\n",
    "X_train, X_valid, y_train, y_valid = train_test_split(data_trans, resp, test_size = 0.2)"
   ]
  },
  {
   "cell_type": "markdown",
   "metadata": {},
   "source": [
    "## Define Model"
   ]
  },
  {
   "cell_type": "code",
   "execution_count": 23,
   "metadata": {},
   "outputs": [],
   "source": [
    "# define model architecture\n",
    "class MLP(nn.Module):\n",
    "    def __init__(self, input_size):\n",
    "        super(MLP, self).__init__()\n",
    "        self.fc1 = nn.Linear(input_size, 512)\n",
    "        self.fc2 = nn.Linear(512, 256)\n",
    "        self.fc3 = nn.Linear(256, 128)\n",
    "        self.fc4 = nn.Linear(128, 2)\n",
    "        self.relu = nn.ReLU()\n",
    "        self.sigmoid = nn.Sigmoid()\n",
    "        \n",
    "    def forward(self, x):\n",
    "        x = x.to(torch.float32)\n",
    "        x = self.relu(self.fc1(x))\n",
    "        x = self.relu(self.fc2(x))\n",
    "        x = self.relu(self.fc3(x))\n",
    "        x = self.sigmoid(self.fc4(x))\n",
    "        return x"
   ]
  },
  {
   "cell_type": "code",
   "execution_count": 79,
   "metadata": {},
   "outputs": [],
   "source": [
    "# define early stopping class\n",
    "class EarlyStopper:\n",
    "    def __init__(self, patience = 3, min_diff = 0.01):\n",
    "        self.patience = patience\n",
    "        self.min_diff = min_diff\n",
    "        self.counter = 0\n",
    "        self.min_validation_loss = np.inf\n",
    "\n",
    "    def early_stop(self, validation_loss):\n",
    "        if ((self.min_validation_loss - validation_loss) / self.min_validation_loss) < self.min_diff:\n",
    "            self.counter += 1\n",
    "            if self.counter >= self.patience:\n",
    "                return True\n",
    "        elif validation_loss < self.min_validation_loss:\n",
    "            self.min_validation_loss = validation_loss\n",
    "            self.count = 0\n",
    "        \n",
    "        return False"
   ]
  },
  {
   "cell_type": "markdown",
   "metadata": {},
   "source": [
    "## Train Model"
   ]
  },
  {
   "cell_type": "code",
   "execution_count": 92,
   "metadata": {},
   "outputs": [],
   "source": [
    "# number of epochs\n",
    "EPOCHS = 100\n",
    "\n",
    "# batch size\n",
    "BATCH_SIZE = 256\n",
    "\n",
    "# initialize the model\n",
    "model = MLP(X_train.shape[1])\n",
    "\n",
    "# define the loss function and optimizer\n",
    "criterion = nn.CrossEntropyLoss()\n",
    "optimizer = optim.RMSprop(model.parameters(), lr = 1e-4, weight_decay = 1e-4)\n",
    "\n",
    "# define early stopping criterion\n",
    "earlyStop = EarlyStopper(min_diff = 0.001)"
   ]
  },
  {
   "cell_type": "code",
   "execution_count": 93,
   "metadata": {},
   "outputs": [
    {
     "name": "stdout",
     "output_type": "stream",
     "text": [
      "Epoch 1 - Validation Loss: 0.002001 | Validation Accuracy: 81.02%\n",
      "Epoch 2 - Validation Loss: 0.0019277 | Validation Accuracy: 82.21%\n",
      "Epoch 3 - Validation Loss: 0.0019078 | Validation Accuracy: 82.6%\n",
      "Epoch 4 - Validation Loss: 0.0018967 | Validation Accuracy: 82.9%\n",
      "Epoch 5 - Validation Loss: 0.0018882 | Validation Accuracy: 83.04%\n",
      "Epoch 6 - Validation Loss: 0.0018808 | Validation Accuracy: 83.35%\n",
      "Epoch 7 - Validation Loss: 0.0018745 | Validation Accuracy: 83.51%\n",
      "Epoch 8 - Validation Loss: 0.0018691 | Validation Accuracy: 83.65%\n",
      "Epoch 9 - Validation Loss: 0.0018644 | Validation Accuracy: 83.9%\n",
      "Epoch 10 - Validation Loss: 0.0018604 | Validation Accuracy: 83.97%\n",
      "Epoch 11 - Validation Loss: 0.0018569 | Validation Accuracy: 84.0%\n",
      "Epoch 12 - Validation Loss: 0.0018539 | Validation Accuracy: 84.02%\n",
      "Epoch 13 - Validation Loss: 0.0018512 | Validation Accuracy: 84.23%\n",
      "Epoch 14 - Validation Loss: 0.0018487 | Validation Accuracy: 84.19%\n",
      "Epoch 15 - Validation Loss: 0.0018463 | Validation Accuracy: 84.24%\n",
      "Epoch 16 - Validation Loss: 0.001844 | Validation Accuracy: 84.24%\n",
      "Epoch 17 - Validation Loss: 0.0018418 | Validation Accuracy: 84.3%\n",
      "Epoch 18 - Validation Loss: 0.0018398 | Validation Accuracy: 84.44%\n",
      "Epoch 19 - Validation Loss: 0.0018379 | Validation Accuracy: 84.47%\n",
      "Epoch 20 - Validation Loss: 0.0018362 | Validation Accuracy: 84.56%\n",
      "Epoch 21 - Validation Loss: 0.0018345 | Validation Accuracy: 84.55%\n",
      "Epoch 22 - Validation Loss: 0.0018329 | Validation Accuracy: 84.56%\n",
      "Epoch 23 - Validation Loss: 0.0018315 | Validation Accuracy: 84.65%\n",
      "Epoch 24 - Validation Loss: 0.0018303 | Validation Accuracy: 84.68%\n",
      "--------------------------------\n",
      "Stoppping Early After Epoch 24...\n",
      "Model Trained In 11.69 Seconds.\n"
     ]
    }
   ],
   "source": [
    "# set random seed\n",
    "torch.manual_seed(7212023)\n",
    "\n",
    "# metric tracking lists\n",
    "train_loss = []\n",
    "train_acc = []\n",
    "valid_loss = []\n",
    "valid_acc = []\n",
    "\n",
    "# save start time\n",
    "start_time = time.time()\n",
    "\n",
    "# train the model\n",
    "for epoch in range(0, EPOCHS):\n",
    "    # load model state\n",
    "    if epoch != 0:\n",
    "        model.load_state_dict(torch.load(f'./ModelStates/income_mlp_{epoch - 1}.pkl')['model_state_dict'])\n",
    "\n",
    "    # initialize variables to track running metrics\n",
    "    training_loss = 0.0\n",
    "    training_acc = 0.0\n",
    "\n",
    "    # perform training step\n",
    "    for i in range(0, len(X_train), BATCH_SIZE):\n",
    "        # define data batch\n",
    "        train_batch = torch.tensor(X_train[i : i + BATCH_SIZE].values)\n",
    "        resp_batch = torch.tensor(y_train[i : i + BATCH_SIZE].values).type(torch.long)\n",
    "        \n",
    "        # forward pass\n",
    "        outputs = model(train_batch)\n",
    "        loss = criterion(outputs, resp_batch)\n",
    "\n",
    "        # save training accuracy\n",
    "        batch_acc = np.mean(torch.argmax(outputs, dim = 1).numpy() == resp_batch.numpy())\n",
    "        training_acc += batch_acc\n",
    "\n",
    "        # backward pass and optimization\n",
    "        loss.backward()\n",
    "        optimizer.step()\n",
    "\n",
    "        # save training loss\n",
    "        training_loss += loss.item()\n",
    "\n",
    "        # clear gradients\n",
    "        optimizer.zero_grad()\n",
    "    \n",
    "    train_loss.append(training_loss / len(range(0, len(X_train), BATCH_SIZE)))\n",
    "    train_acc.append(training_acc / len(range(0, len(X_train), BATCH_SIZE)))\n",
    "    \n",
    "    # initialize variables to track running metrics\n",
    "    validation_loss = 0.0\n",
    "    validation_acc = 0.0\n",
    "\n",
    "    # perform validation step\n",
    "    for i in range(0, len(X_valid), BATCH_SIZE):\n",
    "        with torch.no_grad():\n",
    "            # define data batch\n",
    "            valid_batch = torch.tensor(X_valid[i : i + BATCH_SIZE].values)\n",
    "            resp_batch = torch.tensor(y_valid[i : i + BATCH_SIZE].values).type(torch.long)\n",
    "\n",
    "            # forward pass\n",
    "            outputs = model(valid_batch)\n",
    "            loss = criterion(outputs, resp_batch)\n",
    "\n",
    "            # save validation loss\n",
    "            validation_loss += loss.item()\n",
    "\n",
    "            # save validation accuracy\n",
    "            batch_acc = np.mean(torch.argmax(outputs, dim = 1).numpy() == resp_batch.numpy())\n",
    "            validation_acc += batch_acc\n",
    "\n",
    "    valid_loss.append(validation_loss / len(range(0, len(X_valid), BATCH_SIZE)))\n",
    "    valid_acc.append(validation_acc / len(range(0, len(X_valid), BATCH_SIZE)))\n",
    "\n",
    "    # print the average loss for the epoch\n",
    "    print(f\"Epoch {epoch + 1} - Validation Loss: {np.round(validation_loss / len(X_valid), 7)} | Validation Accuracy: {np.round(validation_acc / len(range(0, len(X_valid), BATCH_SIZE)) * 100, 2)}%\")\n",
    "\n",
    "    # save model state\n",
    "    torch.save({'model_state_dict': model.state_dict(),\n",
    "                'optimizer_state_dict': optimizer.state_dict()},\n",
    "                './ModelStates/income_mlp_' + str(epoch) + '.pkl')\n",
    "    \n",
    "    # check for early stopping\n",
    "    if earlyStop.early_stop(validation_loss):\n",
    "        print('--------------------------------')\n",
    "        print(f'Stoppping Early After Epoch {epoch + 1}...')\n",
    "        break\n",
    "\n",
    "# calculate training time\n",
    "end_time = time.time()\n",
    "print(f'Model Trained In {np.round(end_time - start_time, 2)} Seconds')"
   ]
  },
  {
   "cell_type": "markdown",
   "metadata": {},
   "source": [
    "## Model Evaluation"
   ]
  },
  {
   "cell_type": "code",
   "execution_count": 94,
   "metadata": {},
   "outputs": [
    {
     "data": {
      "text/plain": [
       "<matplotlib.legend.Legend at 0x2a1eebb90>"
      ]
     },
     "execution_count": 94,
     "metadata": {},
     "output_type": "execute_result"
    },
    {
     "data": {
      "image/png": "[encoded data removed]",
      "text/plain": [
       "<Figure size 640x480 with 2 Axes>"
      ]
     },
     "metadata": {},
     "output_type": "display_data"
    }
   ],
   "source": [
    "# prepare results for visualization\n",
    "epochs = range(1, len(train_acc) + 1)\n",
    "train_acc = [x * 100 for x in train_acc]\n",
    "valid_acc = [x * 100 for x in valid_acc]\n",
    "\n",
    "# initialize plot field\n",
    "fig, (ax1, ax2) = plt.subplots(2)\n",
    "fig.suptitle('Model Training Analysis')\n",
    "\n",
    "# plot accuracy results\n",
    "ax1.plot(epochs, train_acc, 'bo', label = 'Training Accuracy')\n",
    "ax1.plot(epochs, valid_acc, 'b', label = 'Validation Accuracy')\n",
    "ax1.set_ylabel('Accuracy')\n",
    "ax1.legend()\n",
    "# ax1.figure()\n",
    "\n",
    "# plot loss results\n",
    "ax2.plot(epochs, train_loss, 'bo', label='Training loss')\n",
    "ax2.plot(epochs, valid_loss, 'b', label='Validation loss')\n",
    "ax2.set_xlabel('Epochs')\n",
    "ax2.set_ylabel('Loss')\n",
    "ax2.legend()\n",
    "# ax2.figure()"
   ]
  },
  {
   "cell_type": "code",
   "execution_count": 95,
   "metadata": {},
   "outputs": [
    {
     "name": "stdout",
     "output_type": "stream",
     "text": [
      "Validation accuracy: 84.68%\n"
     ]
    }
   ],
   "source": [
    "# set the model to evaluation mode\n",
    "model.eval()\n",
    "\n",
    "# predict on validation set\n",
    "with torch.no_grad():\n",
    "    pred = model(torch.tensor(X_valid.values))\n",
    "    pred = torch.argmax(pred, dim = 1).numpy()\n",
    "\n",
    "# calculate validation accuracy\n",
    "accuracy = (pred == y_valid).mean() * 100\n",
    "print(f\"Validation accuracy: {accuracy.round(2)}%\")"
   ]
  }
 ],
 "metadata": {
  "kernelspec": {
   "display_name": "pytorch",
   "language": "python",
   "name": "python3"
  },
  "language_info": {
   "codemirror_mode": {
    "name": "ipython",
    "version": 3
   },
   "file_extension": ".py",
   "mimetype": "text/x-python",
   "name": "python",
   "nbconvert_exporter": "python",
   "pygments_lexer": "ipython3",
   "version": "3.11.3"
  },
  "orig_nbformat": 4
 },
 "nbformat": 4,
 "nbformat_minor": 2
}
